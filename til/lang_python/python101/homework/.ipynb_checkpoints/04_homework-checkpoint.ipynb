{
 "cells": [
  {
   "cell_type": "markdown",
   "metadata": {},
   "source": [
    "# 학습해야 할 내용\n",
    "- 기초 문법\n",
    "- 변수 및 자료형\n",
    "- 문자형"
   ]
  },
  {
   "cell_type": "markdown",
   "metadata": {},
   "source": [
    "### 1. Python에서 사용할 수 없는 식별자(예약어)를 찾아 작성하세요."
   ]
  },
  {
   "cell_type": "code",
   "execution_count": 2,
   "metadata": {},
   "outputs": [
    {
     "name": "stdout",
     "output_type": "stream",
     "text": [
      "['False', 'None', 'True', 'and', 'as', 'assert', 'async', 'await', 'break', 'class', 'continue', 'def', 'del', 'elif', 'else', 'except', 'finally', 'for', 'from', 'global', 'if', 'import', 'in', 'is', 'lambda', 'nonlocal', 'not', 'or', 'pass', 'raise', 'return', 'try', 'while', 'with', 'yield']\n"
     ]
    }
   ],
   "source": [
    "#사용할 수 없는 식별자 (예약어) 리스트는 keyword 모듈 안에 있다.\n",
    "\n",
    "import keyword\n",
    "print(keyword.kwlist)"
   ]
  },
  {
   "cell_type": "markdown",
   "metadata": {},
   "source": [
    "False, None, True, and, as, assert, break, class, continue, def, del, elif, else, except, finally, for, from, global, if, import, in, is, lambda, nonlocal, not, or, pass, raise, return, try, while, with, yield"
   ]
  },
  {
   "cell_type": "markdown",
   "metadata": {},
   "source": [
    "### 2. 파이썬에서 float는 실수를 표현하는 과정에서 같은 값으로 일치되지 않습니다. (floating point rounding error) 따라서, 아래의 값을 비교하기 위해 작성해야하는 코드를 작성하세요.\n",
    "\n",
    "a = 0.1 * 3\n",
    "\n",
    "b = 0.3\n",
    "\n",
    "---\n",
    "정답은 부동소수점 비교를 검색해 보면된다. isclosed 혹은 round를 사용하면 된다."
   ]
  },
  {
   "cell_type": "code",
   "execution_count": 5,
   "metadata": {},
   "outputs": [
    {
     "name": "stdout",
     "output_type": "stream",
     "text": [
      "a= 0.30000000000000004\n",
      "b= 0.3\n",
      "True\n"
     ]
    }
   ],
   "source": [
    "a=0.1*3\n",
    "b=0.3\n",
    "\n",
    "print(\"a=\",a)\n",
    "print(\"b=\",b)\n",
    "\n",
    "#부동소수점 비교 검색\n",
    "import math\n",
    "print(math.isclose(a,b))"
   ]
  },
  {
   "cell_type": "code",
   "execution_count": 15,
   "metadata": {},
   "outputs": [
    {
     "name": "stdout",
     "output_type": "stream",
     "text": [
      "0.3\n",
      "0.3\n"
     ]
    },
    {
     "data": {
      "text/plain": [
       "True"
      ]
     },
     "execution_count": 15,
     "metadata": {},
     "output_type": "execute_result"
    }
   ],
   "source": [
    "a = 0.1*3\n",
    "b = 0.3\n",
    "\n",
    "#라운드 함수를 사용하여 부동소수점 아래 부분을 반올림 시켜 비교한다.\n",
    "a=round(a,1)\n",
    "print(a)\n",
    "print(b)\n",
    "a==b"
   ]
  },
  {
   "cell_type": "markdown",
   "metadata": {},
   "source": [
    "### 3. 이스케이프 문자열 중 1) 줄바꿈 2) 탭 3) \\ 을 작성하세요\n",
    "---\n",
    "이스케이프 문자열은\n",
    "\n",
    "1) 줄바꿈 : \\n\n",
    "\n",
    "\n",
    "2) 탭     : \\t\n",
    "\n",
    "\n",
    "3) \\      : \\\\\\\n",
    "\n"
   ]
  },
  {
   "cell_type": "code",
   "execution_count": 15,
   "metadata": {},
   "outputs": [
    {
     "name": "stdout",
     "output_type": "stream",
     "text": [
      "줄바꿈 \\n : \n",
      "\n",
      "탭 \\t : \t\n",
      "\\ : \\\n"
     ]
    }
   ],
   "source": [
    "print(\"줄바꿈 \\\\n : \\n\")\n",
    "print(\"탭 \\\\t : \\t\")\n",
    "print(\"\\\\ : \\\\\")"
   ]
  },
  {
   "cell_type": "markdown",
   "metadata": {},
   "source": [
    "### 4. “ 안녕, 철수야 ” 를 String Interpolation을 사용하여 출력하세요."
   ]
  },
  {
   "cell_type": "markdown",
   "metadata": {},
   "source": [
    "# String Interpolation 이란?\n",
    "스트링을 표현하는 방식이다.\n",
    "예를 들어 \"Hello {Name of person}, nice to meet you!\"를 표현할 때 {}틀 대신해서 실제 사람 이름을 넣는 것처럼 템플릿처럼 어떠한 것을 대신해 문자를 표현하는 방법을 말한다."
   ]
  },
  {
   "cell_type": "markdown",
   "metadata": {},
   "source": [
    "# 방법 1: f-strings\n",
    "Python 3.6 added new string interpolation method called literal string interpolation and introduced a new literal prefix f. This new way of formatting strings is powerful and easy to use. It provides access to embedded Python expressions inside string constants.\n",
    "\n",
    "```python\n",
    "name = 'World'\n",
    "program = 'Python'\n",
    "print(f'Hello {name}! This is {program}')\n",
    "```"
   ]
  },
  {
   "cell_type": "markdown",
   "metadata": {},
   "source": [
    "# 방법 2: %-formatting\n",
    "파이썬 내장된 기능으로 %오퍼레이터를 이용한 방법\n",
    "\n",
    "```ptyhon\n",
    "print(\"%s %s\" %('Hello','World',))\n",
    "name = 'world' \n",
    "program ='python'\n",
    "print(‘Hello %(name)s! This is %(program)s.’%(name,program))\n",
    "```\n"
   ]
  },
  {
   "cell_type": "markdown",
   "metadata": {},
   "source": [
    "# 방법 3: Str.format()\n",
    "\n",
    "```python\n",
    "name = 'world'\n",
    "print('Hello, {}'.format(name))\n",
    "print('Hello {name}!This is{program}.'.format(name=name,program=program))\n",
    "```"
   ]
  },
  {
   "cell_type": "markdown",
   "metadata": {},
   "source": [
    "# 방법 4:Template Strings\n",
    "\n",
    "```python\n",
    "from string import Template\n",
    "name = 'world'\n",
    "program ='python'\n",
    "new = Template('Hello $name! This is $program.')\n",
    "print(new.substitute(name= name,program=program))\n",
    "```"
   ]
  },
  {
   "cell_type": "markdown",
   "metadata": {},
   "source": [
    "# Key Points to Remember:\n",
    "\n",
    "%-format 는 너무 오래되고 가독성이 떨어져서 추천하지 않고\n",
    "str.format() 는 그냥\n",
    "Template String은 string의 Template 클래스를 포함시켜야 한다.\n",
    "\n",
    "※ f-string 써라 가독성과 쓰기 쉬운 방법이기 때문\n",
    "> python래퍼런스 [https://www.programiz.com/python-programming/string-interpolation#what]"
   ]
  },
  {
   "cell_type": "code",
   "execution_count": 8,
   "metadata": {},
   "outputs": [
    {
     "name": "stdout",
     "output_type": "stream",
     "text": [
      "안녕, 철수야\n",
      "안녕, 철수야\n",
      "안녕, 철수야\n"
     ]
    }
   ],
   "source": [
    "from string import Template\n",
    "name = \"철수\"\n",
    "print(f\"안녕, {name}야\")\n",
    "print(\"안녕, {}야\".format(name))\n",
    "new = Template('안녕, $name야')\n",
    "print(new.substitute(name=name))"
   ]
  },
  {
   "cell_type": "markdown",
   "metadata": {},
   "source": [
    "### 5. 다음 중 형변환시 오류가 발생하는 것은?\n",
    "1) str(1) 2) int('30') 3) int(5) 4) bool('50') 5) int('3.5')"
   ]
  },
  {
   "cell_type": "markdown",
   "metadata": {},
   "source": [
    "5번"
   ]
  },
  {
   "cell_type": "code",
   "execution_count": null,
   "metadata": {},
   "outputs": [],
   "source": []
  }
 ],
 "metadata": {
  "kernelspec": {
   "display_name": "Python 3",
   "language": "python",
   "name": "python3"
  },
  "language_info": {
   "codemirror_mode": {
    "name": "ipython",
    "version": 3
   },
   "file_extension": ".py",
   "mimetype": "text/x-python",
   "name": "python",
   "nbconvert_exporter": "python",
   "pygments_lexer": "ipython3",
   "version": "3.7.1"
  }
 },
 "nbformat": 4,
 "nbformat_minor": 2
}
