{
 "cells": [
  {
   "cell_type": "markdown",
   "metadata": {},
   "source": [
    "# 소대소대\n",
    "> 단어의 짝수번째 알파벳은 대문자로, 홀수번째 알파벳은 소문자로 바꾼 문자열을 return 하는 함수 up_and_low을 작성하세요.\n",
    "\n",
    "예시)\n",
    "```\n",
    "up_and_low('applepie') #=> aPpLePiE\n",
    "up_and_low('spaceship') #=> sPaCeShIp\n",
    "```"
   ]
  },
  {
   "cell_type": "code",
   "execution_count": 4,
   "metadata": {},
   "outputs": [],
   "source": [
    "# 여기에 코드를 작성하세요.\n",
    "def up_and_low(st):\n",
    "    result=\"\"\n",
    "    for i in range(len(st)):\n",
    "        if i%2==0:\n",
    "            result+=st[i].lower()\n",
    "        else:\n",
    "            result+=st[i].upper()\n",
    "    return result"
   ]
  },
  {
   "cell_type": "code",
   "execution_count": 13,
   "metadata": {},
   "outputs": [],
   "source": [
    "def up_and_low_st(words):\n",
    "    result = [spel.upper() if idx % 2 else spel.lower() for idx,spel in enumerate(words)]\n",
    "    return \"\".join(result)"
   ]
  },
  {
   "cell_type": "code",
   "execution_count": 7,
   "metadata": {},
   "outputs": [
    {
     "name": "stdout",
     "output_type": "stream",
     "text": [
      "aPpLePiE\n",
      "sPaCeShIp\n"
     ]
    }
   ],
   "source": [
    "# 해당 코드를 통해 올바른 결과가 나오는지 확인하세요.\n",
    "print(up_and_low('applepie'))\n",
    "print(up_and_low('spaceship'))"
   ]
  },
  {
   "cell_type": "code",
   "execution_count": 14,
   "metadata": {},
   "outputs": [
    {
     "name": "stdout",
     "output_type": "stream",
     "text": [
      "aPpLePiE\n",
      "sPaCeShIp\n"
     ]
    }
   ],
   "source": [
    "print(up_and_low_st('applepie'))\n",
    "print(up_and_low_st('spaceship'))"
   ]
  },
  {
   "cell_type": "markdown",
   "metadata": {},
   "source": [
    "# 숫자 패턴\n",
    "\n",
    "> 원하는 행까지 아래의 패턴을 생성하는 함수 pattern를 작성하세요. 만약 인자가 0이나 음의 정수인 경우 \"\" 즉, 빈 문자열로 반환하세요. 짝수가 인수로 전달되면 패턴은 통과된 짝수보다 작은 최대 홀수까지 계속되어야 합니다.\n",
    "\n",
    "```\n",
    "pattern(9)\n",
    "\n",
    "1\n",
    "333\n",
    "55555\n",
    "7777777\n",
    "999999999\n",
    "\n",
    "pattern(6)\n",
    "\n",
    "1\n",
    "333\n",
    "55555\n",
    "```\n",
    "\n",
    "주의)\n",
    "\n",
    "- 패턴에 공백은 없습니다.\n",
    "- 함수 내부에서 print()를 사용하는 것이 아니라, 하나의 문자열을 return하여서 출력하여야 합니다."
   ]
  },
  {
   "cell_type": "code",
   "execution_count": 19,
   "metadata": {
    "scrolled": false
   },
   "outputs": [],
   "source": [
    "# 여기에 코드를 작성하세요.\n",
    "def pattern(num):\n",
    "    result=\"\"\n",
    "    if num<=0:\n",
    "        return \"\"\n",
    "    for i in range(1,num+1):\n",
    "        if i%2==1:\n",
    "            for x in range(1,i+1):\n",
    "                result+=str(i)\n",
    "        else:\n",
    "            result+=str(\"\\n\")\n",
    "    return result"
   ]
  },
  {
   "cell_type": "code",
   "execution_count": null,
   "metadata": {},
   "outputs": [],
   "source": [
    "def pattern_st(n):\n",
    "    result = [str(num)*num \n",
    "              \n",
    "              ```python\n",
    "def pattern(n):\n",
    "    result = [str(num)*num for num in range(1,n+1) if num %2]\n",
    "    return \"\\n\".join(result)\n",
    "```\n"
   ]
  },
  {
   "cell_type": "code",
   "execution_count": 3,
   "metadata": {},
   "outputs": [
    {
     "name": "stdout",
     "output_type": "stream",
     "text": [
      "1\n",
      "333\n",
      "55555\n",
      "7777777\n",
      "999999999\n",
      "1\n",
      "333\n",
      "55555\n",
      "\n",
      "\n"
     ]
    }
   ],
   "source": [
    "# 해당 코드를 통해 올바른 결과가 나오는지 확인하세요.\n",
    "print(pattern(9))\n",
    "print(pattern(6))\n",
    "print(pattern(-1))"
   ]
  },
  {
   "cell_type": "markdown",
   "metadata": {},
   "source": [
    "# 무엇이 중복일까\n",
    "\n",
    ">중복된 요소만 뽑아서 출력하는 duplicated 함수를 작성하시오.\n",
    "\n",
    "```\n",
    "duplicated(['a', 'b', 'c', 'b', 'd', 'm', 'n', 'n', 'b']) #=> ['b', 'n']\n",
    "```"
   ]
  },
  {
   "cell_type": "code",
   "execution_count": 29,
   "metadata": {},
   "outputs": [],
   "source": [
    "# 여기에 코드를 작성하세요\n",
    "def duplicated(arg):\n",
    "    temp=[]\n",
    "    result=[]\n",
    "    for i in range(len(arg)):\n",
    "        if i==0:\n",
    "            temp.append(arg[0])\n",
    "        else:\n",
    "            if arg[i] in temp:\n",
    "                result.append(arg[i])\n",
    "            else:\n",
    "                temp.append(arg[i])\n",
    "    return list(set(result))\n",
    "        \n",
    "    \n",
    "            "
   ]
  },
  {
   "cell_type": "code",
   "execution_count": 15,
   "metadata": {},
   "outputs": [],
   "source": [
    "def duplicated_remove(arg):\n",
    "    temp=[]\n",
    "    for x in arg:\n",
    "        if x not in temp:\n",
    "            temp.append(x)\n",
    "    \n",
    "        arg.remove(temp)"
   ]
  },
  {
   "cell_type": "code",
   "execution_count": 17,
   "metadata": {},
   "outputs": [],
   "source": [
    "def duplicated_st(arg):\n",
    "    return {spel for spel in arg if arg.count(spel) > 1}"
   ]
  },
  {
   "cell_type": "code",
   "execution_count": 18,
   "metadata": {},
   "outputs": [
    {
     "name": "stdout",
     "output_type": "stream",
     "text": [
      "{'b', 'n'}\n"
     ]
    }
   ],
   "source": [
    "# 해당 코드를 통해 올바른 결과가 나오는지 확인하세요.\n",
    "print(duplicated_st(['a', 'b', 'c', 'b', 'd', 'm', 'n', 'n', 'b']))"
   ]
  },
  {
   "cell_type": "code",
   "execution_count": null,
   "metadata": {},
   "outputs": [],
   "source": []
  },
  {
   "cell_type": "markdown",
   "metadata": {},
   "source": [
    "# 벤다이어그램에서 문제풀이를 착안\n",
    "## 중복된 것을 지우려면 중복이 안되있는 순수한 녀석들만 없애면 된다.\n",
    "#### list와  set의 성질을 이용하면\n",
    "#### 1. list를 set으로 바꿔 그것을 다시  list로 만들면 하나씩으로만 이뤄진 list로 변한다.\n",
    "#### 2. 처음 리스트에서 지금 변환으로 걸러진 리스트를 빼면 중복된 녀석들만 남는데 그것을 set으로 반환해버리면\n",
    "#### 3. 중복녀석들만 뺄 수 있다."
   ]
  },
  {
   "cell_type": "code",
   "execution_count": null,
   "metadata": {},
   "outputs": [],
   "source": []
  },
  {
   "cell_type": "code",
   "execution_count": 27,
   "metadata": {
    "scrolled": true
   },
   "outputs": [
    {
     "name": "stdout",
     "output_type": "stream",
     "text": [
      "['b', 'n']\n"
     ]
    }
   ],
   "source": [
    "# 해당 코드를 통해 올바른 결과가 나오는지 확인하세요.\n",
    "print(duplicated(['a', 'b', 'c', 'b', 'd', 'm', 'n', 'n', 'b']))"
   ]
  }
 ],
 "metadata": {
  "kernelspec": {
   "display_name": "Python 3",
   "language": "python",
   "name": "python3"
  },
  "language_info": {
   "codemirror_mode": {
    "name": "ipython",
    "version": 3
   },
   "file_extension": ".py",
   "mimetype": "text/x-python",
   "name": "python",
   "nbconvert_exporter": "python",
   "pygments_lexer": "ipython3",
   "version": "3.6.7"
  },
  "latex_envs": {
   "LaTeX_envs_menu_present": true,
   "autoclose": false,
   "autocomplete": true,
   "bibliofile": "biblio.bib",
   "cite_by": "apalike",
   "current_citInitial": 1,
   "eqLabelWithNumbers": true,
   "eqNumInitial": 1,
   "hotkeys": {
    "equation": "Ctrl-E",
    "itemize": "Ctrl-I"
   },
   "labels_anchors": false,
   "latex_user_defs": false,
   "report_style_numbering": false,
   "user_envs_cfg": false
  },
  "toc": {
   "base_numbering": 1,
   "nav_menu": {},
   "number_sections": true,
   "sideBar": true,
   "skip_h1_title": false,
   "title_cell": "Table of Contents",
   "title_sidebar": "Contents",
   "toc_cell": false,
   "toc_position": {},
   "toc_section_display": true,
   "toc_window_display": false
  }
 },
 "nbformat": 4,
 "nbformat_minor": 2
}
