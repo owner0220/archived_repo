{
 "cells": [
  {
   "cell_type": "code",
   "execution_count": null,
   "metadata": {},
   "outputs": [],
   "source": [
    "from IPython.display import IFrame    "
   ]
  },
  {
   "cell_type": "markdown",
   "metadata": {},
   "source": [
    "# 문자열 메소드 활용하기"
   ]
  },
  {
   "cell_type": "markdown",
   "metadata": {},
   "source": [
    "## 변형\n",
    "\n",
    "### `.capitalize()`, `title()`, `.upper()`\n",
    "\n",
    "`.capitalize()` : 앞글자를 대문자로 만들어 반환합니다.\n",
    "\n",
    "`.title()` : 어포스트로피나 공백을 이후를 대문자로 만들어 반환합니다.\n",
    "\n",
    "`.upper()` : 모두 대문자로 만들어 반환합니다."
   ]
  },
  {
   "cell_type": "code",
   "execution_count": 6,
   "metadata": {},
   "outputs": [
    {
     "name": "stdout",
     "output_type": "stream",
     "text": [
      "a 값 : hi my name is anonymous, capitalize() :Hi my name is anonymous\n",
      "a 값 : hi my name is anonymous, title() :Hi My Name Is Anonymous\n",
      "a 값 : hi my name is anonymous, upper() :HI MY NAME IS ANONYMOUS\n"
     ]
    }
   ],
   "source": [
    "a=\"hi my name is anonymous\"\n",
    "print(f\"a 값 : {a}, capitalize() :{a.capitalize()}\")\n",
    "print(f\"a 값 : {a}, title() :{a.title()}\")\n",
    "print(f\"a 값 : {a}, upper() :{a.upper()}\")\n",
    "\n"
   ]
  },
  {
   "cell_type": "markdown",
   "metadata": {},
   "source": [
    "### `lower()`, `swapcase()`\n",
    "\n",
    "`lower()` : 모두 소문자로 만들어 반환합니다.\n",
    "\n",
    "`swapcase()` : 대<->소문자로 변경하여 반환합니다."
   ]
  },
  {
   "cell_type": "code",
   "execution_count": 16,
   "metadata": {},
   "outputs": [
    {
     "data": {
      "text/plain": [
       "'Hi My Name Is Anonymous'"
      ]
     },
     "execution_count": 16,
     "metadata": {},
     "output_type": "execute_result"
    }
   ],
   "source": [
    "a=\"HI MY NAME IS ANONYMOUS\"\n",
    "a.lower()\n",
    "b=\"hI mY nAME iS aNONYMOUS\"\n",
    "b.swapcase()"
   ]
  },
  {
   "cell_type": "markdown",
   "metadata": {},
   "source": [
    "### `.join(iterable)`\n",
    "\n",
    "특정한 문자열로 만들어 반환합니다."
   ]
  },
  {
   "cell_type": "code",
   "execution_count": 29,
   "metadata": {},
   "outputs": [
    {
     "data": {
      "text/plain": [
       "'c d e'"
      ]
     },
     "execution_count": 29,
     "metadata": {},
     "output_type": "execute_result"
    }
   ],
   "source": [
    "#String인자로만 이뤄진 iterable 객체를 인자로 사용할 수 있다.\n",
    "\" \".join(\"abc\")\n",
    "\" \".join({'c':'1','d':'2','e':'3'})"
   ]
  },
  {
   "cell_type": "markdown",
   "metadata": {},
   "source": [
    "### `.replace(old, new[, count])`\n",
    "\n",
    "바꿀 대상 글자를 새로운 글자로 바꿔서 반환합니다. \n",
    "\n",
    "count를 지정하면 해당 갯수만큼만 시행합니다."
   ]
  },
  {
   "cell_type": "code",
   "execution_count": 30,
   "metadata": {},
   "outputs": [
    {
     "data": {
      "text/plain": [
       "'waaaaaoooooooooooooooooooooooooooooooooooooooow'"
      ]
     },
     "execution_count": 30,
     "metadata": {},
     "output_type": "execute_result"
    }
   ],
   "source": [
    "\"wooooooooooooooooooooooooooooooooooooooooooooow\".replace(\"o\",\"a\",5)"
   ]
  },
  {
   "cell_type": "markdown",
   "metadata": {},
   "source": [
    "### 글씨 제거 (`strip([chars])`)\n",
    "\n",
    "특정한 문자들을 지정하면,  양쪽을 제거하거나 왼쪽을 제거하거나(lstrip) 오른쪽을 제거합니다(rstrip)\n",
    "\n",
    "지정하지 않으면 공백을 제거합니다."
   ]
  },
  {
   "cell_type": "code",
   "execution_count": 56,
   "metadata": {},
   "outputs": [
    {
     "data": {
      "text/plain": [
       "'왼쪽 공백을 다 지워주세요'"
      ]
     },
     "execution_count": 56,
     "metadata": {},
     "output_type": "execute_result"
    }
   ],
   "source": [
    "#???? 글씨 공백을 다 지우고 특정 문자도 같이 찾아서 지우는건가??\n",
    "\n",
    "left = \" !                                     !         왼쪽 공백을 다 지워주세요~\"\n",
    "right = \"오른쪽 공백을 다 지워주세요                                  \"\n",
    "left.strip(\"!!\")\n",
    "left.strip(\" !~ \")"
   ]
  },
  {
   "cell_type": "markdown",
   "metadata": {},
   "source": [
    "## 탐색 및 검증\n",
    "\n",
    "### `.find(x)` : x의 첫 번째 위치를 반환합니다. 없으면, -1을 반환합니다."
   ]
  },
  {
   "cell_type": "code",
   "execution_count": 47,
   "metadata": {},
   "outputs": [
    {
     "data": {
      "text/plain": [
       "4"
      ]
     },
     "execution_count": 47,
     "metadata": {},
     "output_type": "execute_result"
    }
   ],
   "source": [
    "text = \"apple\"\n",
    "text.find(\"e\")"
   ]
  },
  {
   "cell_type": "markdown",
   "metadata": {},
   "source": [
    "### `.index(x)` : x의 첫번째 위치를 반환합니다. 없으면, 오류가 뜹니다."
   ]
  },
  {
   "cell_type": "code",
   "execution_count": 50,
   "metadata": {},
   "outputs": [
    {
     "ename": "ValueError",
     "evalue": "substring not found",
     "output_type": "error",
     "traceback": [
      "\u001b[1;31m---------------------------------------------------------------------------\u001b[0m",
      "\u001b[1;31mValueError\u001b[0m                                Traceback (most recent call last)",
      "\u001b[1;32m<ipython-input-50-beb2d2309d6b>\u001b[0m in \u001b[0;36m<module>\u001b[1;34m\u001b[0m\n\u001b[0;32m      1\u001b[0m \u001b[0mtext\u001b[0m\u001b[1;33m=\u001b[0m\u001b[1;34m\"apple\"\u001b[0m\u001b[1;33m\u001b[0m\u001b[1;33m\u001b[0m\u001b[0m\n\u001b[0;32m      2\u001b[0m \u001b[0mtext\u001b[0m\u001b[1;33m.\u001b[0m\u001b[0mindex\u001b[0m\u001b[1;33m(\u001b[0m\u001b[1;34m\"a\"\u001b[0m\u001b[1;33m)\u001b[0m\u001b[1;33m\u001b[0m\u001b[1;33m\u001b[0m\u001b[0m\n\u001b[1;32m----> 3\u001b[1;33m \u001b[0mtext\u001b[0m\u001b[1;33m.\u001b[0m\u001b[0mindex\u001b[0m\u001b[1;33m(\u001b[0m\u001b[1;34m\"b\"\u001b[0m\u001b[1;33m)\u001b[0m\u001b[1;33m\u001b[0m\u001b[1;33m\u001b[0m\u001b[0m\n\u001b[0m",
      "\u001b[1;31mValueError\u001b[0m: substring not found"
     ]
    }
   ],
   "source": [
    "text=\"apple\"\n",
    "\n",
    "text.index(\"a\")\n",
    "text.index(\"b\")"
   ]
  },
  {
   "cell_type": "markdown",
   "metadata": {},
   "source": [
    "### 다양한 확인 메소드 : 참/거짓 반환\n",
    "```\n",
    ".isaplha(), .isdecimal(), .isdigit(), .isnumeric(), .isspace(), .issuper(), .istitle(), .islower()\n",
    "```"
   ]
  },
  {
   "cell_type": "code",
   "execution_count": null,
   "metadata": {},
   "outputs": [],
   "source": []
  },
  {
   "cell_type": "markdown",
   "metadata": {},
   "source": [
    "## `split()`\n",
    "\n",
    "문자열을 특정한 단위로 나누어 리스트로 반환합니다."
   ]
  },
  {
   "cell_type": "code",
   "execution_count": 57,
   "metadata": {},
   "outputs": [
    {
     "data": {
      "text/plain": [
       "['이것은', '스플릿', '입니다.']"
      ]
     },
     "execution_count": 57,
     "metadata": {},
     "output_type": "execute_result"
    }
   ],
   "source": [
    "\n",
    "sp = \"이것은 스플릿 입니다.\"\n",
    "sp.split()"
   ]
  },
  {
   "cell_type": "markdown",
   "metadata": {},
   "source": [
    "# ---------------------------------------------------------------------------------------------------------\n",
    "# 리스트 메소드 활용하기\n",
    "\n",
    "## 값 추가 및 삭제\n",
    "\n",
    "### `.append(x)`\n",
    "\n",
    "리스트에 값을 추가할 수 있습니다."
   ]
  },
  {
   "cell_type": "code",
   "execution_count": 83,
   "metadata": {},
   "outputs": [
    {
     "name": "stdout",
     "output_type": "stream",
     "text": [
      "['st', 'tmt', 'tmp', 'starbucks']\n"
     ]
    }
   ],
   "source": [
    "caffe=['st','tmt','tmp']\n",
    "caffe.append(\"starbucks\")\n",
    "print(caffe)"
   ]
  },
  {
   "cell_type": "code",
   "execution_count": 84,
   "metadata": {},
   "outputs": [
    {
     "name": "stdout",
     "output_type": "stream",
     "text": [
      "['st', 'tmt', 'tmp', 'starbucks', 'ediya']\n"
     ]
    }
   ],
   "source": [
    "caffe[len(caffe):]=['ediya']\n",
    "print(caffe)"
   ]
  },
  {
   "cell_type": "markdown",
   "metadata": {},
   "source": [
    "# 리스트 메소드\n",
    "\n",
    "### `.extend(iterable)`\n",
    "\n",
    "리스트에 iterable(list, range, tuple, string*유의*) 값을 붙일 수가 있습니다."
   ]
  },
  {
   "cell_type": "code",
   "execution_count": 118,
   "metadata": {},
   "outputs": [
    {
     "name": "stdout",
     "output_type": "stream",
     "text": [
      "['st', 'tmt', 'tmp', 'starbucks', 'ediya', '카', '페', '카', '페', '카', '페', '카', '페', '카', '페', '카', '페', '카', '페', '카', '페', '카', '페', '카', '페', '카', '페', '카', '페', '카', '페', '카', '페', '카', '페', '카', '페', '카', '페', '카', '페', '카', '페', '카', '페', '카', '페', '카', '페', '카', '페', '카', '페', '카', '페', '카', '페', '카', '페', '카', '페', '카', '페', '카', '페', '카', '페', '카', '페', '카', '페']\n"
     ]
    }
   ],
   "source": [
    "# extend 는 iterale 를 하나하나 뜯어서 붙이는 역할\n",
    "print(caffe)\n",
    "my_coffe=\"카페\"\n",
    "caffe.extend(my_coffe)\n"
   ]
  },
  {
   "cell_type": "markdown",
   "metadata": {},
   "source": [
    "# 리스트 메소드\n",
    "\n",
    "### `insert(i, x)`\n",
    "\n",
    "정해진 위치 `i`에 값을 추가합니다. "
   ]
  },
  {
   "cell_type": "code",
   "execution_count": 175,
   "metadata": {},
   "outputs": [
    {
     "name": "stdout",
     "output_type": "stream",
     "text": [
      "['first', 'st', 'tmt', 'tmp', 'starbucks', 'ediya', '페', '페', '페', '페', '페', '페', '페', '페', '카', '페', '카', '페', '카', '페', '카', '페', '카', '페', '카', '페', '카', '페', '카', '페', '카', '페', '카', '페', '카', '페', '카', '페', '카', '페', '카', '페', '카', '페', '카', '페', '카', '페', '카', '페', '카', '페', '카', '페', '카', '페', '카', '페', '카', '페', '카', '페', '카', '페', '카', '페']\n"
     ]
    }
   ],
   "source": [
    "caffe.insert(0,\"first\")\n",
    "print(caffe)"
   ]
  },
  {
   "cell_type": "code",
   "execution_count": 180,
   "metadata": {},
   "outputs": [],
   "source": [
    "caffe.insert(len(caffe),\"마지막인데요\")"
   ]
  },
  {
   "cell_type": "code",
   "execution_count": 188,
   "metadata": {},
   "outputs": [],
   "source": [
    "caffe.insert(len(caffe)+500,\"그래도 마지막인데요 크핡핡핡\")"
   ]
  },
  {
   "cell_type": "markdown",
   "metadata": {},
   "source": [
    "# 리스트 메소드\n",
    "\n",
    "### `remove(x)`\n",
    "\n",
    "리스트에서 값이 x인 것을 삭제합니다. "
   ]
  },
  {
   "cell_type": "code",
   "execution_count": 189,
   "metadata": {},
   "outputs": [
    {
     "name": "stdout",
     "output_type": "stream",
     "text": [
      "['first', 'st', 'tmt', 'tmp', 'starbucks', 'ediya', '페', '페', '페', '페', '페', '페', '페', '페', '페', '페', '페', '페', '카', '페', '카', '페', '카', '페', '카', '페', '카', '페', '카', '페', '카', '페', '카', '페', '카', '페', '카', '페', '카', '페', '카', '페', '카', '페', '카', '페', '카', '페', '카', '페', '카', '페', '카', '페', '카', '페', '카', '페', '카', '페', '카', '마지막인데요', '페', '마지막인데요', '마지막인데요', '그래도 마지막인데요 크핡핡핡', '그래도 마지막인데요 크핡핡핡', '그래도 마지막인데요 크핡핡핡', '그래도 마지막인데요 크핡핡핡', '그래도 마지막인데요 크핡핡핡', '그래도 마지막인데요 크핡핡핡', '그래도 마지막인데요 크핡핡핡']\n"
     ]
    }
   ],
   "source": [
    "caffe.remove(\"카\")\n",
    "print(caffe)"
   ]
  },
  {
   "cell_type": "markdown",
   "metadata": {},
   "source": [
    "# 리스트 메소드\n",
    "\n",
    "### `.pop(i)`\n",
    "\n",
    "정해진 위치 `i`에 있는 값을 삭제하며, 그 항목을 반환합니다.\n",
    "\n",
    "`i`가 지정되지 않으면 마지막 항목을 삭제하고 되돌려줍니다."
   ]
  },
  {
   "cell_type": "code",
   "execution_count": 208,
   "metadata": {},
   "outputs": [
    {
     "name": "stdout",
     "output_type": "stream",
     "text": [
      "['first', 'st', 'tmt', 'tmp', 'starbucks', 'ediya', '페', '페', '페', '페', '페', '페', '페', '페', '페', '페', '페', '페', '카', '페', '카', '페', '카', '페', '카', '페', '카', '페', '카', '페', '카', '페', '카', '페', '카', '페', '카', '페', '카', '페', '카', '페', '카', '페', '카', '페', '카', '페', '카', '페', '카', '페', '카']\n"
     ]
    }
   ],
   "source": [
    "caffe.pop()\n",
    "print(caffe)"
   ]
  },
  {
   "cell_type": "code",
   "execution_count": 243,
   "metadata": {},
   "outputs": [
    {
     "name": "stdout",
     "output_type": "stream",
     "text": [
      "['a', 'b', 'c', 'd', 'e', 'f']\n"
     ]
    }
   ],
   "source": [
    "st=\"abcdefg\"\n",
    "st=list(st)\n",
    "st.pop()\n",
    "print(st)"
   ]
  },
  {
   "cell_type": "code",
   "execution_count": 242,
   "metadata": {},
   "outputs": [
    {
     "ename": "IndexError",
     "evalue": "pop from empty list",
     "output_type": "error",
     "traceback": [
      "\u001b[1;31m---------------------------------------------------------------------------\u001b[0m",
      "\u001b[1;31mIndexError\u001b[0m                                Traceback (most recent call last)",
      "\u001b[1;32m<ipython-input-242-db0eadaa9c2f>\u001b[0m in \u001b[0;36m<module>\u001b[1;34m\u001b[0m\n\u001b[1;32m----> 1\u001b[1;33m \u001b[0mst\u001b[0m\u001b[1;33m.\u001b[0m\u001b[0mpop\u001b[0m\u001b[1;33m(\u001b[0m\u001b[1;33m)\u001b[0m\u001b[1;33m\u001b[0m\u001b[1;33m\u001b[0m\u001b[0m\n\u001b[0m\u001b[0;32m      2\u001b[0m \u001b[0mprint\u001b[0m\u001b[1;33m(\u001b[0m\u001b[0mst\u001b[0m\u001b[1;33m)\u001b[0m\u001b[1;33m\u001b[0m\u001b[1;33m\u001b[0m\u001b[0m\n",
      "\u001b[1;31mIndexError\u001b[0m: pop from empty list"
     ]
    }
   ],
   "source": [
    "st.pop()\n",
    "print(st)"
   ]
  },
  {
   "cell_type": "markdown",
   "metadata": {},
   "source": [
    "# 리스트 메소드\n",
    "\n",
    "## 탐색 및 정렬"
   ]
  },
  {
   "cell_type": "markdown",
   "metadata": {},
   "source": [
    "# 리스트 메소드\n",
    "\n",
    "### `.index(x)`\n",
    "\n",
    "원하는 값을 찾아 index 값을 반환합니다."
   ]
  },
  {
   "cell_type": "code",
   "execution_count": 277,
   "metadata": {},
   "outputs": [
    {
     "data": {
      "text/plain": [
       "0"
      ]
     },
     "execution_count": 277,
     "metadata": {},
     "output_type": "execute_result"
    }
   ],
   "source": [
    "a=[1,2,3,4,5,1,2,3]\n",
    "a.index(1)"
   ]
  },
  {
   "cell_type": "markdown",
   "metadata": {},
   "source": [
    "# 리스트 메소드\n",
    "\n",
    "### `.count(x)`\n",
    "\n",
    "원하는 값의 갯수를 확인할 수 있습니다."
   ]
  },
  {
   "cell_type": "code",
   "execution_count": 279,
   "metadata": {},
   "outputs": [
    {
     "data": {
      "text/plain": [
       "2"
      ]
     },
     "execution_count": 279,
     "metadata": {},
     "output_type": "execute_result"
    }
   ],
   "source": [
    "a.count(3)"
   ]
  },
  {
   "cell_type": "code",
   "execution_count": 281,
   "metadata": {},
   "outputs": [
    {
     "name": "stdout",
     "output_type": "stream",
     "text": [
      "[1, 2, 1, 2, 4]\n"
     ]
    }
   ],
   "source": [
    "a=[1,2,3,1,2,3,4]\n",
    "b=[1,2,3,1,2,3,4]\n",
    "target = 3\n",
    "\n",
    "for i in range(a.count(target)):\n",
    "    a.remove(target)\n",
    "print(a)"
   ]
  },
  {
   "cell_type": "markdown",
   "metadata": {},
   "source": [
    "# 리스트 메소드\n",
    "\n",
    "### `.sort()`\n",
    "\n",
    "정렬을 합니다. \n",
    "\n",
    "sorted()와는 다르게 원본 list를 변형시키고, None을 리턴합니다."
   ]
  },
  {
   "cell_type": "code",
   "execution_count": 246,
   "metadata": {},
   "outputs": [
    {
     "name": "stdout",
     "output_type": "stream",
     "text": [
      "[43, 16, 4, 1, 45, 2]\n",
      "None\n",
      "[1, 2, 4, 16, 43, 45]\n"
     ]
    }
   ],
   "source": [
    "import random\n",
    "numbers = range(1,46)\n",
    "pick = random.sample(numbers,6)\n",
    "print(pick)\n",
    "print(pick.sort())\n",
    "print(pick)"
   ]
  },
  {
   "cell_type": "markdown",
   "metadata": {},
   "source": [
    "# 리스트 메소드\n",
    "\n",
    "### `reverse()`\n",
    "\n",
    "반대로 뒤집습니다. (정렬 아님)"
   ]
  },
  {
   "cell_type": "code",
   "execution_count": 252,
   "metadata": {},
   "outputs": [
    {
     "name": "stdout",
     "output_type": "stream",
     "text": [
      "None\n",
      "[42, 41, 39, 23, 20, 5]\n"
     ]
    }
   ],
   "source": [
    "numbers=[5,20,23,39,41,42]\n",
    "print(numbers.reverse())\n",
    "print(numbers)"
   ]
  },
  {
   "cell_type": "markdown",
   "metadata": {},
   "source": [
    "# 리스트 메소드\n",
    "\n",
    "## 복사"
   ]
  },
  {
   "cell_type": "code",
   "execution_count": 266,
   "metadata": {},
   "outputs": [],
   "source": [
    "# 리스트 복사를 해봅시다.\n",
    "original_list=[1,2,3,4,5]\n",
    "copy_list = original_list"
   ]
  },
  {
   "cell_type": "code",
   "execution_count": 268,
   "metadata": {},
   "outputs": [
    {
     "name": "stdout",
     "output_type": "stream",
     "text": [
      "[1, 2, 3, 4, 99]\n",
      "[1, 2, 3, 4, 99]\n"
     ]
    }
   ],
   "source": [
    "# b의 값을 바꾸고 a를 출력해봅시다.\n",
    "print(original_list)\n",
    "print(copy_list)\n",
    "copy_list[-1]=99"
   ]
  },
  {
   "cell_type": "code",
   "execution_count": 269,
   "metadata": {},
   "outputs": [
    {
     "name": "stdout",
     "output_type": "stream",
     "text": [
      "1711054365064\n",
      "1711054365064\n"
     ]
    }
   ],
   "source": [
    "# 실제로 같은지 확인해봅시다\n",
    "print(id(original_list))\n",
    "print(id(copy_list))"
   ]
  },
  {
   "cell_type": "code",
   "execution_count": 276,
   "metadata": {},
   "outputs": [
    {
     "name": "stdout",
     "output_type": "stream",
     "text": [
      "a 는 :100 a 주소는 :1834776416\n",
      "b 는 :200 b 주소는 :1834779616\n"
     ]
    }
   ],
   "source": [
    "# 숫자를 확인해봅시다.\n",
    "a=100\n",
    "b=a\n",
    "b=200\n",
    "print(\"a 는 :{} a 주소는 :{}\".format(a,id(a)))\n",
    "print(\"b 는 :{} b 주소는 :{}\".format(b,id(b)))"
   ]
  },
  {
   "cell_type": "code",
   "execution_count": null,
   "metadata": {},
   "outputs": [],
   "source": [
    "# 딕셔너리도 확인해봅시다.\n"
   ]
  },
  {
   "cell_type": "code",
   "execution_count": null,
   "metadata": {},
   "outputs": [],
   "source": [
    "IFrame('https://goo.gl/vx1yGx', width='100%', height='300px')"
   ]
  },
  {
   "cell_type": "code",
   "execution_count": null,
   "metadata": {},
   "outputs": [],
   "source": [
    "IFrame('https://goo.gl/N43pw6', width='100%', height='300px')"
   ]
  },
  {
   "cell_type": "markdown",
   "metadata": {},
   "source": [
    "* 파이썬에서 모든 변수는 객체의 주소를 가지고 있을 뿐입니다. \n",
    "\n",
    "```\n",
    "num = [1, 2, 3]\n",
    "```\n",
    "\n",
    "* 위와 같이 변수를 생성하면 hong이라는 객체를 생성하고, 변수에는 객체의 주소가 저장됩니다.\n",
    "\n",
    "\n",
    "* 변경가능한(mutable) 자료형과 변경불가능한(immutable) 자료형은 서로 다르게 동작합니다.\n",
    "\n",
    "따라서, 복사를 하고 싶을 때에는 다음과 같이 해야한다."
   ]
  },
  {
   "cell_type": "code",
   "execution_count": 286,
   "metadata": {},
   "outputs": [
    {
     "name": "stdout",
     "output_type": "stream",
     "text": [
      "[1, 2, 3]\n"
     ]
    }
   ],
   "source": [
    "# 복사 예시 \n",
    "# 잘라서 각각 넣으면 새로운 주소 배정\n",
    "a=[1,2,3]\n",
    "b=a[:]\n",
    "b[0] = 5\n",
    "print(a)"
   ]
  },
  {
   "cell_type": "code",
   "execution_count": 290,
   "metadata": {},
   "outputs": [
    {
     "name": "stdout",
     "output_type": "stream",
     "text": [
      "[4, 5, 6]\n"
     ]
    }
   ],
   "source": [
    "# 복사 예시2\n",
    "# list() 반환값으로서 넣는것은 새로운 배열을 찾는것\n",
    "a=[4,5,6]\n",
    "b=list(a)\n",
    "b[0]=1\n",
    "print(a)"
   ]
  },
  {
   "cell_type": "code",
   "execution_count": null,
   "metadata": {},
   "outputs": [],
   "source": [
    "IFrame('https://goo.gl/ZH6yZd', width='100%', height='300px')"
   ]
  },
  {
   "cell_type": "markdown",
   "metadata": {},
   "source": [
    "* 하지만, 이렇게 하는 것도 일부 상황에만 서로 다른 얕은 복사(shallow copy)입니다."
   ]
  },
  {
   "cell_type": "code",
   "execution_count": 293,
   "metadata": {},
   "outputs": [
    {
     "name": "stdout",
     "output_type": "stream",
     "text": [
      "[1, 2, [1, 5]]\n"
     ]
    }
   ],
   "source": [
    "# 얕은 복사 예시\n",
    "import copy\n",
    "a=[1,2,[1,2]]\n",
    "b=a[:]\n",
    "b[2][1]=5\n",
    "print(a)"
   ]
  },
  {
   "cell_type": "code",
   "execution_count": null,
   "metadata": {},
   "outputs": [],
   "source": [
    "IFrame('https://goo.gl/FZcYbJ', width='100%', height='300px')"
   ]
  },
  {
   "cell_type": "markdown",
   "metadata": {},
   "source": [
    "* 만일 중첩된 상황에서 복사를 하고 싶다면, 깊은 복사(deep copy)를 해야합니다. \n",
    "\n",
    "* 즉, 내부에 있는 모든 객체까지 새롭게 값이 변경됩니다."
   ]
  },
  {
   "cell_type": "code",
   "execution_count": 291,
   "metadata": {},
   "outputs": [
    {
     "name": "stdout",
     "output_type": "stream",
     "text": [
      "[1, 2, [1, 2]]\n"
     ]
    }
   ],
   "source": [
    "# 깊은 복사 예시\n",
    "import copy\n",
    "a=[1,2,[1,2]]\n",
    "b=copy.deepcopy(a)\n",
    "b[2][1]=5\n",
    "print(a)"
   ]
  },
  {
   "cell_type": "code",
   "execution_count": 1,
   "metadata": {
    "scrolled": false
   },
   "outputs": [
    {
     "ename": "NameError",
     "evalue": "name 'IFrame' is not defined",
     "output_type": "error",
     "traceback": [
      "\u001b[1;31m---------------------------------------------------------------------------\u001b[0m",
      "\u001b[1;31mNameError\u001b[0m                                 Traceback (most recent call last)",
      "\u001b[1;32m<ipython-input-1-21fa16875eef>\u001b[0m in \u001b[0;36m<module>\u001b[1;34m\u001b[0m\n\u001b[1;32m----> 1\u001b[1;33m \u001b[0mIFrame\u001b[0m\u001b[1;33m(\u001b[0m\u001b[1;34m'https://goo.gl/dtnCzY'\u001b[0m\u001b[1;33m,\u001b[0m \u001b[0mwidth\u001b[0m\u001b[1;33m=\u001b[0m\u001b[1;34m'100%'\u001b[0m\u001b[1;33m,\u001b[0m \u001b[0mheight\u001b[0m\u001b[1;33m=\u001b[0m\u001b[1;34m'300px'\u001b[0m\u001b[1;33m)\u001b[0m\u001b[1;33m\u001b[0m\u001b[1;33m\u001b[0m\u001b[0m\n\u001b[0m",
      "\u001b[1;31mNameError\u001b[0m: name 'IFrame' is not defined"
     ]
    }
   ],
   "source": [
    "IFrame('https://goo.gl/dtnCzY', width='100%', height='300px')"
   ]
  },
  {
   "cell_type": "markdown",
   "metadata": {},
   "source": [
    "# 리스트 메소드\n",
    "\n",
    "## 삭제 `clear()`\n",
    "\n",
    "리스트의 모든 항목을 삭제합니다."
   ]
  },
  {
   "cell_type": "code",
   "execution_count": 294,
   "metadata": {},
   "outputs": [
    {
     "name": "stdout",
     "output_type": "stream",
     "text": [
      "[]\n"
     ]
    }
   ],
   "source": [
    "a=[1,2,3,4,5,6,7,8,9,0,1,2,3,4,5,7]\n",
    "a.clear()\n",
    "print(a)"
   ]
  },
  {
   "cell_type": "markdown",
   "metadata": {},
   "source": [
    "# List Comprehension\n",
    "\n",
    "List를 만들 수 있는 간단한 방법이 있습니다."
   ]
  },
  {
   "cell_type": "markdown",
   "metadata": {},
   "source": [
    "## 사전 준비\n",
    "\n",
    "> 다음의 리스트를 만들어보세요. \n",
    "\n",
    "1. 1~10까지의 숫자 중 짝수만 담긴 리스트 `even_list`\n",
    "\n",
    "2. 1~10까지의 숫자로 만든 세제곱 담긴 리스트 `cubic_list`"
   ]
  },
  {
   "cell_type": "code",
   "execution_count": 311,
   "metadata": {},
   "outputs": [
    {
     "data": {
      "text/plain": [
       "[2, 4, 6, 8, 10]"
      ]
     },
     "execution_count": 311,
     "metadata": {},
     "output_type": "execute_result"
    }
   ],
   "source": [
    "even_list=[x*2 for x in range(1,6)]\n",
    "even_list"
   ]
  },
  {
   "cell_type": "code",
   "execution_count": 310,
   "metadata": {},
   "outputs": [
    {
     "data": {
      "text/plain": [
       "[1, 8, 27, 64, 125, 216, 343, 512, 729, 1000]"
      ]
     },
     "execution_count": 310,
     "metadata": {},
     "output_type": "execute_result"
    }
   ],
   "source": [
    "cubic_list=[x**3 for x in range(1,11)]\n",
    "cubic_list"
   ]
  },
  {
   "cell_type": "markdown",
   "metadata": {},
   "source": [
    "## 활용법\n",
    "\n",
    "여러개의 `for` 혹은 `if`문을 중첩적으로 사용 가능합니다.\n",
    "\n"
   ]
  },
  {
   "cell_type": "markdown",
   "metadata": {},
   "source": [
    "## 연습 문제\n",
    "\n",
    "### 짝짓기 - 곱집합\n",
    "\n",
    "> 주어진 두 list의 가능한 모든 조합을 담은 `pair` 리스트를 만들어주세요.\n",
    "\n",
    "1. 반복문 활용\n",
    "2. list comprehension 활용\n",
    "\n",
    "---\n",
    "\n",
    "```\n",
    "girls = ['jane', 'iu', 'mary']\n",
    "boys = ['justin', 'david', 'kim']\n",
    "\n",
    "예시 출력)\n",
    "    \n",
    "[('justin', 'jane'), ('justin', 'iu'), ('justin', 'mary'), ('david', 'jane'), ('david', 'iu'), ('david', 'mary'), ('kim', 'jane'), ('kim', 'iu'), ('kim', 'mary')]\n",
    "```\n",
    "\n"
   ]
  },
  {
   "cell_type": "code",
   "execution_count": 318,
   "metadata": {},
   "outputs": [
    {
     "name": "stdout",
     "output_type": "stream",
     "text": [
      "[('justin', 'jane'), ('david', 'jane'), ('kim', 'jane'), ('justin', 'iu'), ('david', 'iu'), ('kim', 'iu'), ('justin', 'mary'), ('david', 'mary'), ('kim', 'mary')]\n"
     ]
    }
   ],
   "source": [
    "# 반복문을 활용\n",
    "girls = ['jane', 'iu', 'mary']\n",
    "boys = ['justin', 'david', 'kim']\n",
    "pair=[]\n",
    "for girl in girls:\n",
    "    for boy in boys:\n",
    "        pair.append((boy,girl))\n",
    "        \n",
    "print(pair)"
   ]
  },
  {
   "cell_type": "code",
   "execution_count": 325,
   "metadata": {},
   "outputs": [
    {
     "name": "stdout",
     "output_type": "stream",
     "text": [
      "[('justin', 'jane'), ('david', 'jane'), ('kim', 'jane'), ('justin', 'iu'), ('david', 'iu'), ('kim', 'iu'), ('justin', 'mary'), ('david', 'mary'), ('kim', 'mary')]\n"
     ]
    }
   ],
   "source": [
    "#  list comprehension 활용\n",
    "girls = ['jane', 'iu', 'mary']\n",
    "boys = ['justin', 'david', 'kim']\n",
    "pair=[]\n",
    "\n",
    "pair=[(boy,girl) for girl in girls for boy in boys]\n",
    "\n",
    "print(pair)"
   ]
  },
  {
   "cell_type": "markdown",
   "metadata": {
    "slideshow": {
     "slide_type": "slide"
    }
   },
   "source": [
    "### 피타고라스 정리\n",
    "\n",
    "> 주어진 조건(x < y < z < 50) 내에서 피타고라스 방정식의 해를 찾아보세요.\n",
    "\n",
    "1. 반복문 활용\n",
    "\n",
    "2. list comprehension 활용\n",
    "\n",
    "```\n",
    "예시 출력)\n",
    "[(3, 4, 5), (5, 12, 13), (6, 8, 10), (7, 24, 25), (8, 15, 17), (9, 12, 15), (9, 40, 41), (10, 24, 26), (12, 16, 20), (12, 35, 37), (15, 20, 25), (15, 36, 39), (16, 30, 34), (18, 24, 30), (20, 21, 29), (21, 28, 35), (24, 32, 40), (27, 36, 45)]\n",
    "```"
   ]
  },
  {
   "cell_type": "code",
   "execution_count": 345,
   "metadata": {},
   "outputs": [
    {
     "name": "stdout",
     "output_type": "stream",
     "text": [
      "[(3, 4, 5), (5, 12, 13), (6, 8, 10), (7, 24, 25), (8, 15, 17), (9, 12, 15), (9, 40, 41), (10, 24, 26), (12, 16, 20), (12, 35, 37), (15, 20, 25), (15, 36, 39), (16, 30, 34), (18, 24, 30), (20, 21, 29), (21, 28, 35), (24, 32, 40), (27, 36, 45)]\n"
     ]
    }
   ],
   "source": [
    "# 반복문 활용\n",
    "pita=[]\n",
    "for x in range(1,50):\n",
    "    for y in range(x+1,50):\n",
    "        for z in range(y+1,50):\n",
    "            if z==(x**2+y**2)**0.5:\n",
    "                pita.append((x,y,z))\n",
    "pita\n",
    "print(pita)"
   ]
  },
  {
   "cell_type": "code",
   "execution_count": 349,
   "metadata": {},
   "outputs": [
    {
     "name": "stdout",
     "output_type": "stream",
     "text": [
      "[(3, 4, 5), (5, 12, 13), (6, 8, 10), (7, 24, 25), (8, 15, 17), (9, 12, 15), (9, 40, 41), (10, 24, 26), (12, 16, 20), (12, 35, 37), (15, 20, 25), (15, 36, 39), (16, 30, 34), (18, 24, 30), (20, 21, 29), (21, 28, 35), (24, 32, 40), (27, 36, 45)]\n"
     ]
    }
   ],
   "source": [
    "# list comprehension 활용\n",
    "a=[(a,b,c) for a in range(1,50) for b in range(a+1,50) for c in range(b+1,50) if c==(a**2+b**2)**0.5 ]\n",
    "print(a)"
   ]
  },
  {
   "cell_type": "code",
   "execution_count": 350,
   "metadata": {},
   "outputs": [
    {
     "data": {
      "text/plain": [
       "[(11, 1),\n",
       " (11, 2),\n",
       " (11, 3),\n",
       " (11, 4),\n",
       " (11, 5),\n",
       " (11, 6),\n",
       " (11, 7),\n",
       " (11, 8),\n",
       " (11, 9),\n",
       " (12, 1),\n",
       " (12, 2),\n",
       " (12, 3),\n",
       " (12, 4),\n",
       " (12, 5),\n",
       " (12, 6),\n",
       " (12, 7),\n",
       " (12, 8),\n",
       " (12, 9),\n",
       " (13, 1),\n",
       " (13, 2),\n",
       " (13, 3),\n",
       " (13, 4),\n",
       " (13, 5),\n",
       " (13, 6),\n",
       " (13, 7),\n",
       " (13, 8),\n",
       " (13, 9),\n",
       " (14, 1),\n",
       " (14, 2),\n",
       " (14, 3),\n",
       " (14, 4),\n",
       " (14, 5),\n",
       " (14, 6),\n",
       " (14, 7),\n",
       " (14, 8),\n",
       " (14, 9),\n",
       " (15, 1),\n",
       " (15, 2),\n",
       " (15, 3),\n",
       " (15, 4),\n",
       " (15, 5),\n",
       " (15, 6),\n",
       " (15, 7),\n",
       " (15, 8),\n",
       " (15, 9),\n",
       " (16, 1),\n",
       " (16, 2),\n",
       " (16, 3),\n",
       " (16, 4),\n",
       " (16, 5),\n",
       " (16, 6),\n",
       " (16, 7),\n",
       " (16, 8),\n",
       " (16, 9),\n",
       " (17, 1),\n",
       " (17, 2),\n",
       " (17, 3),\n",
       " (17, 4),\n",
       " (17, 5),\n",
       " (17, 6),\n",
       " (17, 7),\n",
       " (17, 8),\n",
       " (17, 9),\n",
       " (18, 1),\n",
       " (18, 2),\n",
       " (18, 3),\n",
       " (18, 4),\n",
       " (18, 5),\n",
       " (18, 6),\n",
       " (18, 7),\n",
       " (18, 8),\n",
       " (18, 9),\n",
       " (19, 1),\n",
       " (19, 2),\n",
       " (19, 3),\n",
       " (19, 4),\n",
       " (19, 5),\n",
       " (19, 6),\n",
       " (19, 7),\n",
       " (19, 8),\n",
       " (19, 9),\n",
       " (20, 1),\n",
       " (20, 2),\n",
       " (20, 3),\n",
       " (20, 4),\n",
       " (20, 5),\n",
       " (20, 6),\n",
       " (20, 7),\n",
       " (20, 8),\n",
       " (20, 9),\n",
       " (21, 1),\n",
       " (21, 2),\n",
       " (21, 3),\n",
       " (21, 4),\n",
       " (21, 5),\n",
       " (21, 6),\n",
       " (21, 7),\n",
       " (21, 8),\n",
       " (21, 9),\n",
       " (22, 1),\n",
       " (22, 2),\n",
       " (22, 3),\n",
       " (22, 4),\n",
       " (22, 5),\n",
       " (22, 6),\n",
       " (22, 7),\n",
       " (22, 8),\n",
       " (22, 9),\n",
       " (23, 1),\n",
       " (23, 2),\n",
       " (23, 3),\n",
       " (23, 4),\n",
       " (23, 5),\n",
       " (23, 6),\n",
       " (23, 7),\n",
       " (23, 8),\n",
       " (23, 9),\n",
       " (24, 1),\n",
       " (24, 2),\n",
       " (24, 3),\n",
       " (24, 4),\n",
       " (24, 5),\n",
       " (24, 6),\n",
       " (24, 7),\n",
       " (24, 8),\n",
       " (24, 9),\n",
       " (25, 1),\n",
       " (25, 2),\n",
       " (25, 3),\n",
       " (25, 4),\n",
       " (25, 5),\n",
       " (25, 6),\n",
       " (25, 7),\n",
       " (25, 8),\n",
       " (25, 9),\n",
       " (26, 1),\n",
       " (26, 2),\n",
       " (26, 3),\n",
       " (26, 4),\n",
       " (26, 5),\n",
       " (26, 6),\n",
       " (26, 7),\n",
       " (26, 8),\n",
       " (26, 9),\n",
       " (27, 1),\n",
       " (27, 2),\n",
       " (27, 3),\n",
       " (27, 4),\n",
       " (27, 5),\n",
       " (27, 6),\n",
       " (27, 7),\n",
       " (27, 8),\n",
       " (27, 9),\n",
       " (28, 1),\n",
       " (28, 2),\n",
       " (28, 3),\n",
       " (28, 4),\n",
       " (28, 5),\n",
       " (28, 6),\n",
       " (28, 7),\n",
       " (28, 8),\n",
       " (28, 9),\n",
       " (29, 1),\n",
       " (29, 2),\n",
       " (29, 3),\n",
       " (29, 4),\n",
       " (29, 5),\n",
       " (29, 6),\n",
       " (29, 7),\n",
       " (29, 8),\n",
       " (29, 9),\n",
       " (30, 1),\n",
       " (30, 2),\n",
       " (30, 3),\n",
       " (30, 4),\n",
       " (30, 5),\n",
       " (30, 6),\n",
       " (30, 7),\n",
       " (30, 8),\n",
       " (30, 9),\n",
       " (31, 1),\n",
       " (31, 2),\n",
       " (31, 3),\n",
       " (31, 4),\n",
       " (31, 5),\n",
       " (31, 6),\n",
       " (31, 7),\n",
       " (31, 8),\n",
       " (31, 9),\n",
       " (32, 1),\n",
       " (32, 2),\n",
       " (32, 3),\n",
       " (32, 4),\n",
       " (32, 5),\n",
       " (32, 6),\n",
       " (32, 7),\n",
       " (32, 8),\n",
       " (32, 9),\n",
       " (33, 1),\n",
       " (33, 2),\n",
       " (33, 3),\n",
       " (33, 4),\n",
       " (33, 5),\n",
       " (33, 6),\n",
       " (33, 7),\n",
       " (33, 8),\n",
       " (33, 9),\n",
       " (34, 1),\n",
       " (34, 2),\n",
       " (34, 3),\n",
       " (34, 4),\n",
       " (34, 5),\n",
       " (34, 6),\n",
       " (34, 7),\n",
       " (34, 8),\n",
       " (34, 9),\n",
       " (35, 1),\n",
       " (35, 2),\n",
       " (35, 3),\n",
       " (35, 4),\n",
       " (35, 5),\n",
       " (35, 6),\n",
       " (35, 7),\n",
       " (35, 8),\n",
       " (35, 9),\n",
       " (36, 1),\n",
       " (36, 2),\n",
       " (36, 3),\n",
       " (36, 4),\n",
       " (36, 5),\n",
       " (36, 6),\n",
       " (36, 7),\n",
       " (36, 8),\n",
       " (36, 9),\n",
       " (37, 1),\n",
       " (37, 2),\n",
       " (37, 3),\n",
       " (37, 4),\n",
       " (37, 5),\n",
       " (37, 6),\n",
       " (37, 7),\n",
       " (37, 8),\n",
       " (37, 9),\n",
       " (38, 1),\n",
       " (38, 2),\n",
       " (38, 3),\n",
       " (38, 4),\n",
       " (38, 5),\n",
       " (38, 6),\n",
       " (38, 7),\n",
       " (38, 8),\n",
       " (38, 9),\n",
       " (39, 1),\n",
       " (39, 2),\n",
       " (39, 3),\n",
       " (39, 4),\n",
       " (39, 5),\n",
       " (39, 6),\n",
       " (39, 7),\n",
       " (39, 8),\n",
       " (39, 9),\n",
       " (40, 1),\n",
       " (40, 2),\n",
       " (40, 3),\n",
       " (40, 4),\n",
       " (40, 5),\n",
       " (40, 6),\n",
       " (40, 7),\n",
       " (40, 8),\n",
       " (40, 9),\n",
       " (41, 1),\n",
       " (41, 2),\n",
       " (41, 3),\n",
       " (41, 4),\n",
       " (41, 5),\n",
       " (41, 6),\n",
       " (41, 7),\n",
       " (41, 8),\n",
       " (41, 9),\n",
       " (42, 1),\n",
       " (42, 2),\n",
       " (42, 3),\n",
       " (42, 4),\n",
       " (42, 5),\n",
       " (42, 6),\n",
       " (42, 7),\n",
       " (42, 8),\n",
       " (42, 9),\n",
       " (43, 1),\n",
       " (43, 2),\n",
       " (43, 3),\n",
       " (43, 4),\n",
       " (43, 5),\n",
       " (43, 6),\n",
       " (43, 7),\n",
       " (43, 8),\n",
       " (43, 9),\n",
       " (44, 1),\n",
       " (44, 2),\n",
       " (44, 3),\n",
       " (44, 4),\n",
       " (44, 5),\n",
       " (44, 6),\n",
       " (44, 7),\n",
       " (44, 8),\n",
       " (44, 9),\n",
       " (45, 1),\n",
       " (45, 2),\n",
       " (45, 3),\n",
       " (45, 4),\n",
       " (45, 5),\n",
       " (45, 6),\n",
       " (45, 7),\n",
       " (45, 8),\n",
       " (45, 9),\n",
       " (46, 1),\n",
       " (46, 2),\n",
       " (46, 3),\n",
       " (46, 4),\n",
       " (46, 5),\n",
       " (46, 6),\n",
       " (46, 7),\n",
       " (46, 8),\n",
       " (46, 9),\n",
       " (47, 1),\n",
       " (47, 2),\n",
       " (47, 3),\n",
       " (47, 4),\n",
       " (47, 5),\n",
       " (47, 6),\n",
       " (47, 7),\n",
       " (47, 8),\n",
       " (47, 9),\n",
       " (48, 1),\n",
       " (48, 2),\n",
       " (48, 3),\n",
       " (48, 4),\n",
       " (48, 5),\n",
       " (48, 6),\n",
       " (48, 7),\n",
       " (48, 8),\n",
       " (48, 9),\n",
       " (49, 1),\n",
       " (49, 2),\n",
       " (49, 3),\n",
       " (49, 4),\n",
       " (49, 5),\n",
       " (49, 6),\n",
       " (49, 7),\n",
       " (49, 8),\n",
       " (49, 9)]"
      ]
     },
     "execution_count": 350,
     "metadata": {},
     "output_type": "execute_result"
    }
   ],
   "source": [
    "[(a,b) for a in range(1,50) if a>10 for b in range(1,50) if b<10]"
   ]
  },
  {
   "cell_type": "markdown",
   "metadata": {},
   "source": [
    "### 모음 제거하기\n",
    "\n",
    "> 다음의 문장에서 모음(a, e, i, o, u)를 모두 제거하시오.\n",
    "\n",
    "1. list comprehension만 사용해보세요.\n",
    "\n",
    "``` \n",
    "    words = 'Life is too short, you need python!'\n",
    "\n",
    "    예시출력)\n",
    "    Lf s t shrt, y nd pythn!\n",
    "```"
   ]
  },
  {
   "cell_type": "code",
   "execution_count": 360,
   "metadata": {},
   "outputs": [
    {
     "name": "stdout",
     "output_type": "stream",
     "text": [
      "Lf s t shrt, y nd pythn!\n"
     ]
    }
   ],
   "source": [
    "words = 'Life is too short, you need python!'\n",
    "moum = \"aeiou\"\n",
    "\n",
    "list_comprehension= [string for string in words if not string in moum]\n",
    "print(\"\".join(list_comprehension))"
   ]
  },
  {
   "cell_type": "markdown",
   "metadata": {},
   "source": [
    "# 딕셔너리 메소드 활용"
   ]
  },
  {
   "cell_type": "markdown",
   "metadata": {},
   "source": [
    "## 추가 및 삭제\n",
    "\n",
    "### `.pop(key[, default])`\n",
    "\n",
    "key가 딕셔너리에 있으면 제거하고 그 값을 돌려줍니다. 그렇지 않으면 default를 반환합니다.\n",
    "\n",
    "default가 없는 상태에서 딕셔너리에 없으면 KeyError가 발생합니다."
   ]
  },
  {
   "cell_type": "code",
   "execution_count": null,
   "metadata": {},
   "outputs": [],
   "source": []
  },
  {
   "cell_type": "markdown",
   "metadata": {},
   "source": [
    "### `.update()`\n",
    "\n",
    "값을 제공하는 key, value로 덮어씁니다. "
   ]
  },
  {
   "cell_type": "code",
   "execution_count": null,
   "metadata": {},
   "outputs": [],
   "source": []
  },
  {
   "cell_type": "markdown",
   "metadata": {},
   "source": [
    "### `.get(key[, default])`\n",
    "\n",
    "key를 통해 value를 가져옵니다. \n",
    "\n",
    "절대로 KeyError가 발생하지 않습니다. default는 기본적으로 None입니다."
   ]
  },
  {
   "cell_type": "code",
   "execution_count": null,
   "metadata": {},
   "outputs": [],
   "source": []
  },
  {
   "cell_type": "markdown",
   "metadata": {},
   "source": [
    "## dictionary comprehension\n",
    "\n",
    "dictionary도 comprehension을 활용하여 만들 수 있습니다. \n",
    "\n",
    "* 추후에 zip, map 등을 배우고 다시 다루도록 하겠습니다 :)"
   ]
  },
  {
   "cell_type": "code",
   "execution_count": null,
   "metadata": {},
   "outputs": [],
   "source": []
  }
 ],
 "metadata": {
  "kernelspec": {
   "display_name": "Python 3",
   "language": "python",
   "name": "python3"
  },
  "language_info": {
   "codemirror_mode": {
    "name": "ipython",
    "version": 3
   },
   "file_extension": ".py",
   "mimetype": "text/x-python",
   "name": "python",
   "nbconvert_exporter": "python",
   "pygments_lexer": "ipython3",
   "version": "3.6.7"
  },
  "latex_envs": {
   "LaTeX_envs_menu_present": true,
   "autoclose": false,
   "autocomplete": true,
   "bibliofile": "biblio.bib",
   "cite_by": "apalike",
   "current_citInitial": 1,
   "eqLabelWithNumbers": true,
   "eqNumInitial": 1,
   "hotkeys": {
    "equation": "Ctrl-E",
    "itemize": "Ctrl-I"
   },
   "labels_anchors": false,
   "latex_user_defs": false,
   "report_style_numbering": false,
   "user_envs_cfg": false
  },
  "toc": {
   "base_numbering": 1,
   "nav_menu": {},
   "number_sections": true,
   "sideBar": true,
   "skip_h1_title": false,
   "title_cell": "Table of Contents",
   "title_sidebar": "Contents",
   "toc_cell": false,
   "toc_position": {},
   "toc_section_display": true,
   "toc_window_display": false
  }
 },
 "nbformat": 4,
 "nbformat_minor": 2
}
