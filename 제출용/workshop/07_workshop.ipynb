{
 "cells": [
  {
   "cell_type": "markdown",
   "metadata": {},
   "source": [
    "# Background\n",
    "- 객체지향프로그래밍\n",
    "- 클래스, 인스턴스\n"
   ]
  },
  {
   "cell_type": "markdown",
   "metadata": {},
   "source": [
    "# Goal\n",
    " - 클래스에 대한 이해"
   ]
  },
  {
   "cell_type": "markdown",
   "metadata": {},
   "source": [
    "# Problem"
   ]
  },
  {
   "cell_type": "markdown",
   "metadata": {},
   "source": [
    "# 1. 다음과 같은 클래스  Circle 이 있다."
   ]
  },
  {
   "cell_type": "markdown",
   "metadata": {},
   "source": [
    "```python\n",
    "    class Circle:\n",
    "        pi=3.14\n",
    "        x=0\n",
    "        y=0\n",
    "        r=0\n",
    "        \n",
    "        def area(self):\n",
    "            return self.pi*self.r*self.r\n",
    "        \n",
    "        def circumference(self):\n",
    "            return 2 * self.pi * self.r\n",
    "        \n",
    "        def center(self):\n",
    "            return (self.x, self.y)\n",
    "        \n",
    "        def move(self, x, y):\n",
    "            self.x = x\n",
    "            self.y = y\n",
    "\n",
    "```"
   ]
  },
  {
   "cell_type": "code",
   "execution_count": 4,
   "metadata": {},
   "outputs": [],
   "source": [
    "    class Circle:\n",
    "        pi=3.14\n",
    "        x=0\n",
    "        y=0\n",
    "        r=0\n",
    "        \n",
    "        def area(self):\n",
    "            return self.pi*self.r*self.r\n",
    "        \n",
    "        def circumference(self):\n",
    "            return 2 * self.pi * self.r\n",
    "        \n",
    "        def center(self):\n",
    "            return (self.x, self.y)\n",
    "        \n",
    "        def move(self, x, y):\n",
    "            self.x = x\n",
    "            self.y = y\n",
    "        "
   ]
  },
  {
   "cell_type": "code",
   "execution_count": 18,
   "metadata": {},
   "outputs": [
    {
     "name": "stdout",
     "output_type": "stream",
     "text": [
      "넓이는 : 28.259999999999998,   둘레는 :18.84,  지금 위치는: (2, 4)\n"
     ]
    }
   ],
   "source": [
    "a=Circle()\n",
    "a.x=2\n",
    "a.y=4\n",
    "a.r=3\n",
    "\n",
    "\n",
    "print(f\"넓이는 : {a.area()},   둘레는 :{a.circumference()},  지금 위치는: {a.center()}\")"
   ]
  },
  {
   "cell_type": "code",
   "execution_count": 26,
   "metadata": {},
   "outputs": [],
   "source": [
    "    class Circle2:\n",
    "        pi=3.14\n",
    "        x=0\n",
    "        y=0\n",
    "        r=0\n",
    "        before_x=0\n",
    "        before_y=0\n",
    "        \n",
    "        def area(self):\n",
    "            return self.pi*self.r*self.r\n",
    "        \n",
    "        def circumference(self):\n",
    "            return 2 * self.pi * self.r\n",
    "        \n",
    "        def center(self):\n",
    "            return (self.x, self.y)\n",
    "        \n",
    "        def move(self, x, y):\n",
    "            before_x=self.x\n",
    "            before_y=self.y\n",
    "            self.x = x\n",
    "            self.y = y\n",
    "        \n",
    "        def section(self):\n",
    "            r=((self.x-self.before_x)**2+(self.y-self.before_y)**2)**0.5\n",
    "            return r\n",
    "            "
   ]
  },
  {
   "cell_type": "code",
   "execution_count": 27,
   "metadata": {},
   "outputs": [
    {
     "name": "stdout",
     "output_type": "stream",
     "text": [
      "7.0710678118654755\n",
      "7.0710678118654755\n"
     ]
    }
   ],
   "source": [
    "b=Circle2()\n",
    "b.move(5,-5)\n",
    "print(b.section())\n",
    "#첫 번째 원 0,0\n",
    "print(50**0.5)"
   ]
  },
  {
   "cell_type": "code",
   "execution_count": 1,
   "metadata": {},
   "outputs": [
    {
     "ename": "NameError",
     "evalue": "name 'Circle' is not defined",
     "output_type": "error",
     "traceback": [
      "\u001b[1;31m---------------------------------------------------------------------------\u001b[0m",
      "\u001b[1;31mNameError\u001b[0m                                 Traceback (most recent call last)",
      "\u001b[1;32m<ipython-input-1-21f584028993>\u001b[0m in \u001b[0;36m<module>\u001b[1;34m\u001b[0m\n\u001b[1;32m----> 1\u001b[1;33m \u001b[1;32mclass\u001b[0m \u001b[0mCircle3\u001b[0m\u001b[1;33m(\u001b[0m\u001b[0mCircle\u001b[0m\u001b[1;33m)\u001b[0m\u001b[1;33m:\u001b[0m\u001b[1;33m\u001b[0m\u001b[1;33m\u001b[0m\u001b[0m\n\u001b[0m\u001b[0;32m      2\u001b[0m     \u001b[0mbefore_x\u001b[0m\u001b[1;33m=\u001b[0m\u001b[1;36m0\u001b[0m\u001b[1;33m\u001b[0m\u001b[1;33m\u001b[0m\u001b[0m\n\u001b[0;32m      3\u001b[0m     \u001b[0mbefore_y\u001b[0m\u001b[1;33m=\u001b[0m\u001b[1;36m0\u001b[0m\u001b[1;33m\u001b[0m\u001b[1;33m\u001b[0m\u001b[0m\n\u001b[0;32m      4\u001b[0m \u001b[1;33m\u001b[0m\u001b[0m\n\u001b[0;32m      5\u001b[0m     \u001b[1;32mdef\u001b[0m \u001b[0mmove\u001b[0m\u001b[1;33m(\u001b[0m\u001b[0mself\u001b[0m\u001b[1;33m,\u001b[0m \u001b[0mx\u001b[0m\u001b[1;33m,\u001b[0m \u001b[0my\u001b[0m\u001b[1;33m)\u001b[0m\u001b[1;33m:\u001b[0m\u001b[1;33m\u001b[0m\u001b[1;33m\u001b[0m\u001b[0m\n",
      "\u001b[1;31mNameError\u001b[0m: name 'Circle' is not defined"
     ]
    }
   ],
   "source": [
    "    class Circle3(Circle):\n",
    "        before_x=0\n",
    "        before_y=0\n",
    "        \n",
    "        def move(self, x, y):\n",
    "            before_x=self.x\n",
    "            before_y=self.y\n",
    "            self.x = x\n",
    "            self.y = y\n",
    "        \n",
    "        def section(self):\n",
    "            r=((self.x-self.before_x)**2+(self.y-self.before_y)**2)**0.5\n",
    "            return r        "
   ]
  },
  {
   "cell_type": "code",
   "execution_count": 2,
   "metadata": {},
   "outputs": [
    {
     "ename": "NameError",
     "evalue": "name 'Circle3' is not defined",
     "output_type": "error",
     "traceback": [
      "\u001b[1;31m---------------------------------------------------------------------------\u001b[0m",
      "\u001b[1;31mNameError\u001b[0m                                 Traceback (most recent call last)",
      "\u001b[1;32m<ipython-input-2-ae595a3bf6e6>\u001b[0m in \u001b[0;36m<module>\u001b[1;34m\u001b[0m\n\u001b[1;32m----> 1\u001b[1;33m \u001b[0mc\u001b[0m\u001b[1;33m=\u001b[0m\u001b[0mCircle3\u001b[0m\u001b[1;33m(\u001b[0m\u001b[1;33m)\u001b[0m\u001b[1;33m\u001b[0m\u001b[1;33m\u001b[0m\u001b[0m\n\u001b[0m\u001b[0;32m      2\u001b[0m \u001b[0mc\u001b[0m\u001b[1;33m.\u001b[0m\u001b[0mmove\u001b[0m\u001b[1;33m(\u001b[0m\u001b[1;36m5\u001b[0m\u001b[1;33m,\u001b[0m\u001b[1;33m-\u001b[0m\u001b[1;36m5\u001b[0m\u001b[1;33m)\u001b[0m\u001b[1;33m\u001b[0m\u001b[1;33m\u001b[0m\u001b[0m\n\u001b[0;32m      3\u001b[0m \u001b[0mprint\u001b[0m\u001b[1;33m(\u001b[0m\u001b[0mc\u001b[0m\u001b[1;33m.\u001b[0m\u001b[0msection\u001b[0m\u001b[1;33m(\u001b[0m\u001b[1;33m)\u001b[0m\u001b[1;33m)\u001b[0m\u001b[1;33m\u001b[0m\u001b[1;33m\u001b[0m\u001b[0m\n\u001b[0;32m      4\u001b[0m \u001b[0mprint\u001b[0m\u001b[1;33m(\u001b[0m\u001b[1;36m50\u001b[0m\u001b[1;33m**\u001b[0m\u001b[1;36m0.5\u001b[0m\u001b[1;33m)\u001b[0m\u001b[1;33m\u001b[0m\u001b[1;33m\u001b[0m\u001b[0m\n",
      "\u001b[1;31mNameError\u001b[0m: name 'Circle3' is not defined"
     ]
    }
   ],
   "source": [
    "c=Circle3()\n",
    "c.move(5,-5)\n",
    "print(c.section())\n",
    "print(50**0.5)"
   ]
  },
  {
   "cell_type": "code",
   "execution_count": 3,
   "metadata": {},
   "outputs": [],
   "source": [
    "class Circle4:\n",
    "    x=0\n",
    "    y=0\n",
    "    def __init__(self,x,y):\n",
    "        self.x=x\n",
    "        self.y=y\n",
    "        \n",
    "    def section(self,circle):\n",
    "        r=((self.x-circle.x)**2+(self.y-circle.y)**2)**0.5\n",
    "        return r"
   ]
  },
  {
   "cell_type": "code",
   "execution_count": 6,
   "metadata": {},
   "outputs": [
    {
     "name": "stdout",
     "output_type": "stream",
     "text": [
      "2.8284271247461903\n",
      "2.8284271247461903\n"
     ]
    }
   ],
   "source": [
    "c1=Circle4(0,0)\n",
    "c2=Circle4(2,2)\n",
    "\n",
    "import math\n",
    "print(c2.section(c1))\n",
    "print(math.sqrt(8))\n"
   ]
  }
 ],
 "metadata": {
  "kernelspec": {
   "display_name": "Python 3",
   "language": "python",
   "name": "python3"
  },
  "language_info": {
   "codemirror_mode": {
    "name": "ipython",
    "version": 3
   },
   "file_extension": ".py",
   "mimetype": "text/x-python",
   "name": "python",
   "nbconvert_exporter": "python",
   "pygments_lexer": "ipython3",
   "version": "3.7.1"
  }
 },
 "nbformat": 4,
 "nbformat_minor": 2
}
