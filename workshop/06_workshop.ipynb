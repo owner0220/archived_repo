{
 "cells": [
  {
   "cell_type": "markdown",
   "metadata": {},
   "source": [
    "# Background\n",
    "- 조건문 및 반복문\n",
    "- 함수"
   ]
  },
  {
   "cell_type": "markdown",
   "metadata": {},
   "source": [
    "# Goal\n",
    "- 함수에 대한 이해"
   ]
  },
  {
   "cell_type": "markdown",
   "metadata": {},
   "source": [
    "# Problem\n",
    "- 양의 정수 x를 입력 받아 제곱근의 근사값의 결과를 반환하는 함수를 작성하세요.\n",
    "- sqrt() 사용 금지"
   ]
  },
  {
   "cell_type": "code",
   "execution_count": 1,
   "metadata": {},
   "outputs": [],
   "source": [
    "def bisectionmd(x):\n",
    "    num=1\n",
    "    L_min=0.0\n",
    "    R_max=0.0\n",
    "    middle=0.0\n",
    "    result=0.0\n",
    "    while True:\n",
    "        if num**2<x and (num+1)**2>x:\n",
    "            L_min=num\n",
    "            R_max=num+1\n",
    "            break\n",
    "        num+=1\n",
    "    \n",
    "    \n",
    "    while R_max-L_min > 0.000000000000001 :\n",
    "        middle=(L_min+R_max)/2\n",
    "        if middle**2 < x:\n",
    "            L_min=middle\n",
    "        elif middle**2 > x:\n",
    "            R_max=middle\n",
    "    result=L_min\n",
    "    return result"
   ]
  },
  {
   "cell_type": "code",
   "execution_count": null,
   "metadata": {},
   "outputs": [],
   "source": [
    "def bi(x):\n",
    "    left=0.0\n",
    "    right=0.0\n",
    "    middle=0.0\n",
    "    while True:\n",
    "        if left==0.0:\n",
    "            left=x-1\n",
    "            right=x\n",
    "        middle = (left+right)/2\n",
    "        if middle**2 < x:\n",
    "            left = middle\n",
    "        else:\n",
    "            right = middle\n",
    "        if round(left,12)==round(right,12):\n",
    "            return right"
   ]
  },
  {
   "cell_type": "code",
   "execution_count": 2,
   "metadata": {},
   "outputs": [
    {
     "name": "stdout",
     "output_type": "stream",
     "text": [
      "1.4142135623730951\n",
      "1.414213562373095\n"
     ]
    }
   ],
   "source": [
    "import math\n",
    "print(math.sqrt(2))\n",
    "print(bisectionmd(2))"
   ]
  },
  {
   "cell_type": "code",
   "execution_count": null,
   "metadata": {},
   "outputs": [],
   "source": [
    "bi(2)"
   ]
  },
  {
   "cell_type": "code",
   "execution_count": null,
   "metadata": {},
   "outputs": [],
   "source": []
  }
 ],
 "metadata": {
  "kernelspec": {
   "display_name": "Python 3",
   "language": "python",
   "name": "python3"
  },
  "language_info": {
   "codemirror_mode": {
    "name": "ipython",
    "version": 3
   },
   "file_extension": ".py",
   "mimetype": "text/x-python",
   "name": "python",
   "nbconvert_exporter": "python",
   "pygments_lexer": "ipython3",
   "version": "3.7.1"
  }
 },
 "nbformat": 4,
 "nbformat_minor": 2
}
