{
 "cells": [
  {
   "cell_type": "markdown",
   "metadata": {},
   "source": [
    "# 행맨 게임 만들기 "
   ]
  },
  {
   "cell_type": "markdown",
   "metadata": {},
   "source": [
    "## 답안 확인 하기\n",
    "\n",
    "> 행맨 게임을 위한 코드를 작성해봅시다. \n",
    ">\n",
    "> `isanswer(answer, letters)`는 정답(answer)과 추측 알파벳의 리스트(letters)를 받아서, True/False 결과를 나타냅니다.\n",
    "\n",
    "```\n",
    "예시) \n",
    "isanswer('apple', ['a', 'p', 'l'])\n",
    "\n",
    "False\n",
    "```"
   ]
  },
  {
   "cell_type": "code",
   "execution_count": 2,
   "metadata": {
    "scrolled": true
   },
   "outputs": [],
   "source": [
    "# 여기에 코드를 작성해주세요\n",
    "# 같은 문자를 계속 입력하는 예외는 여기서 생각하지 않습니다.\n",
    "# 단순히 넣은 문자를 정답과 비교해서 F/T 를 반환합니다.\n",
    "def isanswer(answer, letters):\n",
    "    answer = set(answer)\n",
    "    count=0\n",
    "    for letter in letters:\n",
    "        if letter in answer:\n",
    "            count+=1\n",
    "            \n",
    "        if(count==len(answer)):\n",
    "            return True\n",
    "    return False"
   ]
  },
  {
   "cell_type": "code",
   "execution_count": 5,
   "metadata": {},
   "outputs": [
    {
     "data": {
      "text/plain": [
       "True"
      ]
     },
     "execution_count": 5,
     "metadata": {},
     "output_type": "execute_result"
    }
   ],
   "source": [
    "isanswer('apple', ['a', 'a', 'a','a'])"
   ]
  },
  {
   "cell_type": "markdown",
   "metadata": {},
   "source": [
    "## 현재 상태 출력하기\n",
    "\n",
    "> 행맨 게임을 위한 코드를 작성해봅시다. \n",
    ">\n",
    "> `status(answer, letters)`는 정답(answer)과 추측 알파벳의 리스트(letters)를 받아서, 현재 결과를 나타냅니다.\n",
    "\n",
    "```\n",
    "예시)\n",
    "status('apple', ['a', 'p', 'l'])\n",
    "\n",
    "'appl_'\n",
    "```"
   ]
  },
  {
   "cell_type": "code",
   "execution_count": 1,
   "metadata": {},
   "outputs": [],
   "source": [
    "# 여기에 코드를 작성해주세요\n",
    "def status(answer, letters):\n",
    "    result=\"\"\n",
    "    for letter in answer:\n",
    "        if letter not in letters:\n",
    "            answer=answer.replace(letter,\"_\")\n",
    "    print(answer)"
   ]
  },
  {
   "cell_type": "code",
   "execution_count": 21,
   "metadata": {},
   "outputs": [
    {
     "data": {
      "text/plain": [
       "'appl_'"
      ]
     },
     "execution_count": 21,
     "metadata": {},
     "output_type": "execute_result"
    }
   ],
   "source": [
    "status('apple', ['a', 'p', 'l'])"
   ]
  },
  {
   "cell_type": "markdown",
   "metadata": {},
   "source": [
    "## 행맨 로직 만들기 - 자유코딩!\n",
    "\n",
    "> 위의 함수를 활용하여 `hangman(answer)`를 만들어봅시다!\n",
    ">\n",
    "> 사용자가 답을 맞출 때까지 진행하며, 8번내로 정답을 맞춰야 합니다.\n",
    "\n",
    "추가적인 함수를 만들어도 좋습니다! 완성하신 분들은 옆사람이랑 게임을 진행해봅시다 :)"
   ]
  },
  {
   "cell_type": "code",
   "execution_count": 3,
   "metadata": {},
   "outputs": [],
   "source": [
    "def hangprint(count):\n",
    "    hangman = [\n",
    "    \"\"\"\n",
    "       _________\n",
    "        |/        \n",
    "        |              \n",
    "        |                \n",
    "        |                 \n",
    "        |               \n",
    "        |                   \n",
    "        |___                 \n",
    "        \"\"\",\n",
    "\n",
    "    \"\"\"\n",
    "       _________\n",
    "        |/   |      \n",
    "        |              \n",
    "        |                \n",
    "        |                 \n",
    "        |               \n",
    "        |                   \n",
    "        |___                 \n",
    "        H\"\"\",\n",
    "\n",
    "    \"\"\"\n",
    "       _________       \n",
    "        |/   |              \n",
    "        |   (_)\n",
    "        |                         \n",
    "        |                       \n",
    "        |                         \n",
    "        |                          \n",
    "        |___                       \n",
    "        HA\"\"\",\n",
    "\n",
    "    \"\"\"\n",
    "       ________               \n",
    "        |/   |                   \n",
    "        |   (_)                  \n",
    "        |    |                     \n",
    "        |    |                    \n",
    "        |                           \n",
    "        |                            \n",
    "        |___                    \n",
    "        HAN\"\"\",\n",
    "\n",
    "\n",
    "    \"\"\"\n",
    "       _________             \n",
    "        |/   |               \n",
    "        |   (_)                   \n",
    "        |   /|                     \n",
    "        |    |                    \n",
    "        |                        \n",
    "        |                          \n",
    "        |___                          \n",
    "        HANG\"\"\",\n",
    "\n",
    "\n",
    "    \"\"\"\n",
    "       _________              \n",
    "        |/   |                     \n",
    "        |   (_)                     \n",
    "        |   /|\\                    \n",
    "        |    |                       \n",
    "        |                             \n",
    "        |                            \n",
    "        |___                          \n",
    "        HANGM\"\"\",\n",
    "\n",
    "\n",
    "\n",
    "    \"\"\"\n",
    "       ________                   \n",
    "        |/   |                         \n",
    "        |   (_)                      \n",
    "        |   /|\\                             \n",
    "        |    |                          \n",
    "        |   /                            \n",
    "        |                                  \n",
    "        |___                              \n",
    "        HANGMA\"\"\",\n",
    "\n",
    "\n",
    "    \"\"\"\n",
    "       ________\n",
    "        |/   |     \n",
    "        |   (_)    \n",
    "        |   /|\\           \n",
    "        |    |        \n",
    "        |   / \\        \n",
    "        |               \n",
    "        |___           \n",
    "        HANGMAN\"\"\"]\n",
    "    \n",
    "    print(hangman[count])"
   ]
  },
  {
   "cell_type": "code",
   "execution_count": 10,
   "metadata": {},
   "outputs": [],
   "source": [
    "# 여기에 코드를 작성해주세요\n",
    "def hangman(answer):    \n",
    "    letters=[]\n",
    "    count=0\n",
    "    while True:\n",
    "        letter = input(\"하나의 영문자만 입력해라~! : \")\n",
    "        if letter not in letters:\n",
    "            letters.append(letter)\n",
    "        if isanswer(answer, letters):\n",
    "            print(\"Win\")\n",
    "            return\n",
    "        else :\n",
    "            if letter not in answer:\n",
    "                count+=1\n",
    "        hangprint(count)\n",
    "        status(answer, letters)\n",
    "        if count==7:\n",
    "            print(\"GAMEOVER\")\n",
    "            return\n",
    "        "
   ]
  },
  {
   "cell_type": "code",
   "execution_count": 11,
   "metadata": {},
   "outputs": [
    {
     "name": "stdout",
     "output_type": "stream",
     "text": [
      "하나의 영문자만 입력해라~! : q\n",
      "\n",
      "       _________\n",
      "        |/   |      \n",
      "        |              \n",
      "        |                \n",
      "        |                 \n",
      "        |               \n",
      "        |                   \n",
      "        |___                 \n",
      "        H\n",
      "_____\n",
      "하나의 영문자만 입력해라~! : q\n",
      "\n",
      "       _________       \n",
      "        |/   |              \n",
      "        |   (_)\n",
      "        |                         \n",
      "        |                       \n",
      "        |                         \n",
      "        |                          \n",
      "        |___                       \n",
      "        HA\n",
      "_____\n",
      "하나의 영문자만 입력해라~! : q\n",
      "\n",
      "       ________               \n",
      "        |/   |                   \n",
      "        |   (_)                  \n",
      "        |    |                     \n",
      "        |    |                    \n",
      "        |                           \n",
      "        |                            \n",
      "        |___                    \n",
      "        HAN\n",
      "_____\n",
      "하나의 영문자만 입력해라~! : q\n",
      "\n",
      "       _________             \n",
      "        |/   |               \n",
      "        |   (_)                   \n",
      "        |   /|                     \n",
      "        |    |                    \n",
      "        |                        \n",
      "        |                          \n",
      "        |___                          \n",
      "        HANG\n",
      "_____\n",
      "하나의 영문자만 입력해라~! : q\n",
      "\n",
      "       _________              \n",
      "        |/   |                     \n",
      "        |   (_)                     \n",
      "        |   /|\\                    \n",
      "        |    |                       \n",
      "        |                             \n",
      "        |                            \n",
      "        |___                          \n",
      "        HANGM\n",
      "_____\n",
      "하나의 영문자만 입력해라~! : q\n",
      "\n",
      "       ________                   \n",
      "        |/   |                         \n",
      "        |   (_)                      \n",
      "        |   /|\\                             \n",
      "        |    |                          \n",
      "        |   /                            \n",
      "        |                                  \n",
      "        |___                              \n",
      "        HANGMA\n",
      "_____\n",
      "하나의 영문자만 입력해라~! : q\n",
      "\n",
      "       ________\n",
      "        |/   |     \n",
      "        |   (_)    \n",
      "        |   /|\\           \n",
      "        |    |        \n",
      "        |   / \\        \n",
      "        |               \n",
      "        |___           \n",
      "        HANGMAN\n",
      "_____\n",
      "GAMEOVER\n"
     ]
    }
   ],
   "source": [
    "# 행맨 게임을 시작해봅시다!\n",
    "hangman('apple')"
   ]
  },
  {
   "cell_type": "code",
   "execution_count": 8,
   "metadata": {},
   "outputs": [
    {
     "data": {
      "text/plain": [
       "['q', 'w', 'e']"
      ]
     },
     "execution_count": 8,
     "metadata": {},
     "output_type": "execute_result"
    }
   ],
   "source": [
    "list(\"qwe\")"
   ]
  }
 ],
 "metadata": {
  "kernelspec": {
   "display_name": "Python 3",
   "language": "python",
   "name": "python3"
  },
  "language_info": {
   "codemirror_mode": {
    "name": "ipython",
    "version": 3
   },
   "file_extension": ".py",
   "mimetype": "text/x-python",
   "name": "python",
   "nbconvert_exporter": "python",
   "pygments_lexer": "ipython3",
   "version": "3.6.7"
  },
  "latex_envs": {
   "LaTeX_envs_menu_present": true,
   "autoclose": false,
   "autocomplete": true,
   "bibliofile": "biblio.bib",
   "cite_by": "apalike",
   "current_citInitial": 1,
   "eqLabelWithNumbers": true,
   "eqNumInitial": 1,
   "hotkeys": {
    "equation": "Ctrl-E",
    "itemize": "Ctrl-I"
   },
   "labels_anchors": false,
   "latex_user_defs": false,
   "report_style_numbering": false,
   "user_envs_cfg": false
  },
  "toc": {
   "base_numbering": 1,
   "nav_menu": {},
   "number_sections": true,
   "sideBar": true,
   "skip_h1_title": false,
   "title_cell": "Table of Contents",
   "title_sidebar": "Contents",
   "toc_cell": false,
   "toc_position": {},
   "toc_section_display": true,
   "toc_window_display": false
  }
 },
 "nbformat": 4,
 "nbformat_minor": 2
}
