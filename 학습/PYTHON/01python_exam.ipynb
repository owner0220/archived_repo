{
 "cells": [
  {
   "cell_type": "markdown",
   "metadata": {},
   "source": [
    "## 1. 다음 중 시퀀스 자료형의 특징이 아닌 것을 고르시오.\n",
    "1. list, tuple, range, string, binary 같은 자료형 타입이 있다. \n",
    "2. 데이터의 순서대로 나열되어 있는 자료형이다.\n",
    "3. in 연산자를 통해 특정 값이 시퀀스 자료형에 있는지 확인할 수 있다.\n",
    "4. 기본적으로 정렬이 되어 있지만, 사용자 임의대로 순서를 변경할 수 있다."
   ]
  },
  {
   "cell_type": "markdown",
   "metadata": {},
   "source": [
    "해설) 파이썬 시퀀스 자료형에서 순서대로 나열된 것이 `정렬된 것`을 의미하는 것은 아니다."
   ]
  },
  {
   "cell_type": "markdown",
   "metadata": {},
   "source": [
    "## 2. 보기의 파이썬 코드를 실행하였을 때, 출력되는 결과를 고르시오.\n",
    "\n",
    "1. 9\n",
    "2. 10\n",
    "3. 11\n",
    "4. 에러 발생"
   ]
  },
  {
   "cell_type": "code",
   "execution_count": null,
   "metadata": {},
   "outputs": [],
   "source": [
    "result = 4 + True + False + 5\n",
    "\n",
    "print(result)"
   ]
  },
  {
   "cell_type": "markdown",
   "metadata": {},
   "source": [
    "해설) \"bool, Numbers(int, float, complex) 타입의 자료형은 파이썬 내부적\n",
    " 으로 자동으로 형변환을 한다. True는 1 , False는 0이므로 최종 결과는\n",
    " 10으로 출력된다.\""
   ]
  },
  {
   "cell_type": "markdown",
   "metadata": {},
   "source": [
    "## 3. 보기의 파이썬 코드를 실행하였을 때, 출력되는 결과를 작성하시오."
   ]
  },
  {
   "cell_type": "code",
   "execution_count": null,
   "metadata": {},
   "outputs": [],
   "source": [
    "word = \"python\"\n",
    "\n",
    "indexing = word[3:8]\n",
    "\n",
    "print(indexing)"
   ]
  },
  {
   "cell_type": "markdown",
   "metadata": {},
   "source": [
    "## 4. 보기의 파이썬 코드를 실행하였을 때, 출력되는 모습으로 옳은 것을 고르시오.\n",
    "\n",
    "1. Betty\n",
    "2. y\n",
    "3. James\n",
    "4. e\n"
   ]
  },
  {
   "cell_type": "code",
   "execution_count": null,
   "metadata": {},
   "outputs": [],
   "source": [
    "names = ['John', 'Ron', 'James', 'Betty']\n",
    "print(names[-2][-2])"
   ]
  },
  {
   "cell_type": "markdown",
   "metadata": {},
   "source": [
    "## 5. 다섯 개의 정수 0을 가진 리스트를 만드는 방법 중 틀린 것을 고르시오.\n",
    "1. `L = [0, 0, 0, 0, 0]`\n",
    "2. `L = [0] * 5`\n",
    "3. `L = [] ; L.append(0*5)`\n",
    "4. `L = [0 for i in range(5)]`"
   ]
  },
  {
   "cell_type": "markdown",
   "metadata": {},
   "source": [
    "해설) `L.append(0*5)` 에서 0*5 는 0을 5번 복사하는 것이 아닌 단순히 0 곱하기 5 연산을 실행해 `L.append(0)` 과 동일하게 L 리스트에 정수 0 하나 만을 추가한다."
   ]
  },
  {
   "cell_type": "markdown",
   "metadata": {},
   "source": [
    "## 6. 보기의 파이썬 코드를 실행하였을 때, 결과로 옳은 것을 고르시오.\n",
    "\n",
    "1.\n",
    "```\n",
    "m\n",
    "m\n",
    "```\n",
    "\n",
    "2.\n",
    "```\n",
    "hello my name is ssafy\n",
    "hello my name is ssafy\n",
    "```\n",
    "\n",
    "3.\n",
    "```\n",
    "m m\n",
    "```\n",
    "\n",
    "4.\n",
    "```\n",
    "hello y nae is ssafy\n",
    "```\n"
   ]
  },
  {
   "cell_type": "code",
   "execution_count": null,
   "metadata": {},
   "outputs": [],
   "source": [
    "s = \"hello my name is ssafy\"\n",
    "for i in s:\n",
    "    if i == \"m\":\n",
    "        print(s)"
   ]
  },
  {
   "cell_type": "markdown",
   "metadata": {},
   "source": [
    "해설) 문제의 코드는 변수 s에 저장된 문자열을 하나씩 for문으로 돌면서 \"m\"이 나올때마다 문자열 s를 출력해주는 코드이다."
   ]
  },
  {
   "cell_type": "markdown",
   "metadata": {},
   "source": [
    "## 7. 보기의 파이썬 코드를 실행하였을 때, 결과로 옳은 것을 고르시오.\n",
    "\n",
    "1. I'M HUNGRY\n",
    "2. i'm hUnGrY\n",
    "3. I'M HuNgRy\n",
    "4. 오류 발생\n"
   ]
  },
  {
   "cell_type": "code",
   "execution_count": null,
   "metadata": {},
   "outputs": [],
   "source": [
    "string = \"i'm hungry\"\n",
    "result = \"\"\n",
    "for idx,value in enumerate(string):\n",
    "    if idx%2:\n",
    "        result += value.upper()\n",
    "    else:\n",
    "        result += value\n",
    "print(result)"
   ]
  },
  {
   "cell_type": "markdown",
   "metadata": {},
   "source": [
    "해설) 문제의 코드는 idx가 홀수인 문자열을 대문자로 바꾸는 코드이다.\n",
    " 따라서 \"i\", \"'\", \"m\", \" \", \"h\", \"u\", \"n\", \"g\", \"r\", \"y\" 에서 idx가 홀수 번째인 \n",
    " \"'\", \" \", \"u\", \"g\", \"y\" 가 대문자로 반환된다."
   ]
  },
  {
   "cell_type": "markdown",
   "metadata": {},
   "source": [
    "## 8. 보기의 파이썬 코드를 실행하였을 때, 다음 중 옳은 것을 고르시오.\n",
    "\n",
    "1. d1 == d2 는 False 다.\n",
    "2. len(d1) 은 1, len(d2) 는 0 이다.\n",
    "3. id(d1) == id(d2) 는 True 다.\n",
    "4. d1 의 value 와 d2 의 value 는 모두 비어있는 딕셔너리다.\n"
   ]
  },
  {
   "cell_type": "code",
   "execution_count": null,
   "metadata": {},
   "outputs": [],
   "source": [
    "d1 = {'d': dict()}\n",
    "d2 = dict(d={})"
   ]
  },
  {
   "cell_type": "markdown",
   "metadata": {},
   "source": [
    "해설) d1 과 d2 모두 { 'd': {} } 다."
   ]
  },
  {
   "cell_type": "markdown",
   "metadata": {},
   "source": [
    "## 9. 보기의 파이썬 코드를 실행하였을 때, 다음 중 옳은 것을 고르시오.\n",
    "\n",
    "1. len(a1) 은 2 다.\n",
    "2. a1 와 a2 는 같은 딕셔너리를 가리키고 있다.\n",
    "3. 이 코드는 에러가 발생한다.\n",
    "4. 보기 중에는 답이 없다."
   ]
  },
  {
   "cell_type": "code",
   "execution_count": null,
   "metadata": {},
   "outputs": [],
   "source": [
    "d = {'a': 1, 'b': 2}\n",
    "a1 = d.update(c=3)\n",
    "a2 = a1"
   ]
  },
  {
   "cell_type": "markdown",
   "metadata": {},
   "source": [
    "해설) a1 과 a2 는 None 이다."
   ]
  },
  {
   "cell_type": "markdown",
   "metadata": {},
   "source": [
    "## 10. 보기의 파이썬 코드를 실행하였을 때, 다음 중 옳은 것을 고르시오.\n",
    "\n",
    "1. 에러가 난다.\n",
    "2. b 는 None 이다.\n",
    "3. 실행하면 아무것도 출력되지 않는다.\n",
    "4. d 는 { 'apple': 'cherry' } 다."
   ]
  },
  {
   "cell_type": "code",
   "execution_count": null,
   "metadata": {},
   "outputs": [],
   "source": [
    "fruits = { 'apple': '사과', 'banana': '바나나' }\n",
    "a = fruits.get('apple')\n",
    "b = fruits.get('cherry')\n",
    "c = fruits.get('melon', True)\n",
    "d = { a: b }\n",
    "if c:\n",
    "    print(d)"
   ]
  },
  {
   "cell_type": "markdown",
   "metadata": {},
   "source": [
    "해설) 딕셔너리에서 get 메서드는 존재하는 key 값의 경우 value 를, 없는 key 면 에러가 아닌 None 을, 없는 key 와 두번째 인자를 넘기면, 해당 인자를 리턴한다."
   ]
  },
  {
   "cell_type": "markdown",
   "metadata": {},
   "source": [
    "## 11. 파이썬에서 제공하는 built-in function이 아닌 것을 고르시오.\n",
    "\n",
    "1. abs()\n",
    "2. sqrt()\n",
    "3. list()\n",
    "4. map()"
   ]
  },
  {
   "cell_type": "markdown",
   "metadata": {},
   "source": [
    "해설) sqrt 함수는 math module을 import하여 사용해야하는 함수이다."
   ]
  },
  {
   "cell_type": "markdown",
   "metadata": {},
   "source": [
    "## 12. 함수에 대한 설명으로 옳지 않은 것을 고르시오.\n",
    "\n",
    "1. 함수의 인자(parameter)는 함수 선언시 설정한 값이며, 인수(argument)는 함수 호출시 넘겨주는 값이다.\n",
    "2. 함수는 오직 하나의 객체만 반환할 수 있다.\n",
    "3. 함수에서 return을 작성하지 않으면 코드 실행시 오류가 발생한다.\n",
    "4. 같은 이름의 함수를 선언하면, 함수 호출 시 나중에 선언된 함수가 실행된다."
   ]
  },
  {
   "cell_type": "markdown",
   "metadata": {},
   "source": [
    "해설) (3) return을 작성하지 않으면 함수는 None 값을 자동으로 return하게 되며, 오류는 발생하지 않는다."
   ]
  },
  {
   "cell_type": "markdown",
   "metadata": {},
   "source": [
    "## 13. 보기의 파이썬 코드를 실행하였을 때, 화면에 출력되는 결과로 옳은 것은?\n",
    "\n",
    "1. 80\n",
    "2. 81\n",
    "3. 82\n",
    "4. 83"
   ]
  },
  {
   "cell_type": "code",
   "execution_count": null,
   "metadata": {},
   "outputs": [],
   "source": [
    "def func(a, b=1, c=2, *args, **kwargs):\n",
    "    d = sum([n*2 for n in args if n > 2])\n",
    "    e = sum([v*v for k, v in kwargs.items()])\n",
    "    return a + b + c + d + e\n",
    "\n",
    "print(func(9, 4, 2, 3, 1, 7, d=3, e=6))"
   ]
  },
  {
   "cell_type": "markdown",
   "metadata": {},
   "source": [
    "해설) 함수 func에 정의된 인자(parameters)는 넘겨 받은 인수(arguments)로 인하여, a=9, b=4, c=2, args=(3, 1, 7), kwargs={'d':3, 'e':6}이 된다. b와 c에 할당된 기본값은 해당 위치에 넘겨 받은 인수가 있기 때문에 기본값을 사용하지 않고, 넘겨 받은 값을 사용한다. tuple args의 2 초과인 값들에 2를 곱한 후 합하여 d에 할당하고, dictionary kwargs의 values에 제곱을 한 후 합하여 e에 할당하였다. 따라서 a, b, c, d, e의 값을 모두 더하면 80이 된다."
   ]
  },
  {
   "cell_type": "markdown",
   "metadata": {},
   "source": [
    "## 14. 보기는 재귀 함수를 통해 구현된 피보나치를 구하는 파이썬 코드이다. 이 코드를 실행하였을 때, fib(0)과 fib(1)이 호출되는 횟수를 각각 나타낸 것으로 옳은 것은?\n",
    "\n",
    "1. 1번, 4번\n",
    "2. 2번, 3번\n",
    "3. 3번, 2번\n",
    "4. 4번, 1번"
   ]
  },
  {
   "cell_type": "code",
   "execution_count": null,
   "metadata": {},
   "outputs": [],
   "source": [
    "def fib(n):\n",
    "    if n == 0 or n==1:\n",
    "        return 1\n",
    "    else:\n",
    "        return fib(n-1) + fib(n-2)\n",
    "\n",
    "print(fib(4))"
   ]
  },
  {
   "cell_type": "markdown",
   "metadata": {},
   "source": [
    "해설) fib(4)를 실행하면 다음과 같은 순서로 함수가 호출된다.\n",
    " \n",
    " fib(4)\n",
    " \n",
    " fib(3)+fib(2)\n",
    " \n",
    " fib(2)+fib(1)+fib(1)+fib(0)\n",
    " \n",
    " fib(1)+fib(0)+fib(1)+fib(1)+fib(0)\n",
    " \n",
    " 따라서 fib(0)은 2번, fib(1)은 3번 호출된다."
   ]
  },
  {
   "cell_type": "markdown",
   "metadata": {},
   "source": [
    "## 15. 보기의 파이썬 코드를 실행하였을 때, result 변수에 들어있는 값을 작성하시오."
   ]
  },
  {
   "cell_type": "code",
   "execution_count": null,
   "metadata": {
    "scrolled": true
   },
   "outputs": [],
   "source": [
    "def my_sum(a, b):\n",
    "    c = a + b\n",
    "    print(c)\n",
    "\n",
    "result = my_sum(5, 8)"
   ]
  },
  {
   "cell_type": "code",
   "execution_count": null,
   "metadata": {},
   "outputs": [],
   "source": [
    "print(result)"
   ]
  },
  {
   "cell_type": "markdown",
   "metadata": {},
   "source": [
    "해설) my_sum 함수는 return 값이 존재하지 않늗다. 따라서 return 값이 존재하지 않는 함수는 자동으로 None을 return하게 되고, result 변수에는 None이 할당되게 된다."
   ]
  },
  {
   "cell_type": "markdown",
   "metadata": {},
   "source": [
    "## 16. 보기의 파이썬 코드를 실행하였을 때, 화면에 출력되는 결과를 작성하시오."
   ]
  },
  {
   "cell_type": "code",
   "execution_count": null,
   "metadata": {},
   "outputs": [],
   "source": [
    "a = 1\n",
    "def my_func_1():\n",
    "    a = 5\n",
    "    my_func_2()\n",
    "\n",
    "def my_func_2():\n",
    "    print(a, end='')\n",
    "\n",
    "my_func_1()\n",
    "print(a)\n"
   ]
  },
  {
   "cell_type": "markdown",
   "metadata": {},
   "source": [
    "해설) 변수를 찾는 순서는 LEGB Rule에 의하여, 함수 내부 > 전역이 된다. my_func_2 함수 내부에는 a라는 이름의 변수가 없으므로, 전역에 정의된 변수 a를 찾아 print하게 되어 '1, '이 출력 되고, 함수 밖에서 호출된 print(a)는 곧바로 전역에 정의된 변수 a를 찾아 print하여 '1'이 출력된따. 따라서 결과는 11이다."
   ]
  },
  {
   "cell_type": "markdown",
   "metadata": {},
   "source": [
    "## 17. 보기의 파이썬 코드를 실행하였을 때, 화면에 출력되는 결과로 옳은 것은?\n",
    "\n",
    "1. 341\n",
    "2. 412\n",
    "3. 421\n",
    "4. 314"
   ]
  },
  {
   "cell_type": "code",
   "execution_count": null,
   "metadata": {},
   "outputs": [],
   "source": [
    "def func(c='5', *args):\n",
    "    a, c, b = args\n",
    "    return a + b + c\n",
    "\n",
    "print(func('3','4','1','2'))"
   ]
  },
  {
   "cell_type": "markdown",
   "metadata": {},
   "source": [
    "해설) 함수 func에 정의된 인자(parameters)는 넘겨 받은 인수(arguments)로 인하여, c='3', args=('4','1','2')가 된다. c의 기본값이 정의되어 있지만 인수가 넘어 왔으므로 '3'이 할당되고, *args는 가변인자이므로 몇 개가 오더라도 하나의 변수 args에 tuple로 할당된다. tuple에 할당된 값('4', '1', '2')가 변수 a, c, b에 순서대로 할당하게 되고, 이 과정에서 c에 할당된 '3'이 없어지고 '1'이 할당되게 된다. 따라서 a, b, c를 이어붙인 결과는 '421'이 된다."
   ]
  },
  {
   "cell_type": "markdown",
   "metadata": {},
   "source": [
    "## 18. 보기의 파이썬 코드를 실행하였을 때, 화면에 출력되는 결과를 작성하시오."
   ]
  },
  {
   "cell_type": "code",
   "execution_count": null,
   "metadata": {},
   "outputs": [],
   "source": [
    "def func(c, b, a):\n",
    "    return a*b+c\n",
    "\n",
    "print(func(2, 5, 4))"
   ]
  },
  {
   "cell_type": "markdown",
   "metadata": {},
   "source": [
    "해설) 함수는 기본적으로 인수를 위치로 판단한다. 따라서 2, 4, 5의 순서로 넘겨준 인수를 넘겨주게 되면 함수에서 순서대로 인식하여 c=2, b=4, a=5의 값이 할당되며 결과는 5*4+2로 22가 된다."
   ]
  },
  {
   "cell_type": "markdown",
   "metadata": {},
   "source": [
    "## 19. 보기의 파이썬 코드를 실행하였을 때, 출력되는 결과로 옳은 것을 고르시오.\n",
    "\n",
    "1. kim\n",
    "2. choi\n",
    "3. hong\n",
    "4. None"
   ]
  },
  {
   "cell_type": "code",
   "execution_count": null,
   "metadata": {},
   "outputs": [],
   "source": [
    "name = 'hong'\n",
    "class Person:\n",
    "     name = 'choi'\n",
    "     def greeting(self):\n",
    "          print(name)\n",
    "\n",
    "p1 = Person()\n",
    "p1.name = 'kim'\n",
    "p1.greeting()"
   ]
  },
  {
   "cell_type": "markdown",
   "metadata": {},
   "source": [
    "해설) 보기의 파이썬 이름공간에 name에 저장된 것은 전역공간에 있는 hong이다. 만약, 인스턴스의 name을 호출하기 위해서는 self.name이어야한다."
   ]
  },
  {
   "cell_type": "markdown",
   "metadata": {},
   "source": [
    "## 20. 보기의 파이썬 코드를 실행하였을 때,  오류가 발생하는 것을 고르시오.\n",
    "\n",
    "1. my_complex.real()\n",
    "2. my_list.sort()\n",
    "3. my_list.pop()\n",
    "4. my_dict.keys()"
   ]
  },
  {
   "cell_type": "code",
   "execution_count": null,
   "metadata": {},
   "outputs": [],
   "source": [
    "my_complex = 3+4j\n",
    "my_list = [1, 2, 3]\n",
    "my_dict = {1: 1, 2: 2}"
   ]
  },
  {
   "cell_type": "markdown",
   "metadata": {},
   "source": [
    "해설) real은 complex 클래스의 메소드가 아니라, 실수부의 데이터 어트리뷰트(속성)를 나타낸다. `my_complex.real`"
   ]
  },
  {
   "cell_type": "markdown",
   "metadata": {},
   "source": [
    "## 21. 보기의 my_int가 정수형인지 확인할 수 있는 방법 중 옳은 것을 고르시오.\n",
    "\n",
    "1. `isinstance(int, my_int)`\n",
    "2. `my_int == 3`\n",
    "3. `isinstance(my_int, 3)`\n",
    "4. `type(my_int) == int`"
   ]
  },
  {
   "cell_type": "code",
   "execution_count": null,
   "metadata": {},
   "outputs": [],
   "source": [
    "my_int = 3"
   ]
  },
  {
   "cell_type": "markdown",
   "metadata": {},
   "source": [
    "해설) isinstance를 활용하기 위해서는 인스턴스, 클래스 순으로 인자를 넘겨줘야한다. 즉, isinstance(my_int, int)로 확인 해야 한다. 또는 type(my_int) == int로 비교할 수 있다."
   ]
  },
  {
   "cell_type": "markdown",
   "metadata": {},
   "source": [
    "## 22. 보기의 파이썬 코드를 작성한 후 p3.population을 출력하면 나오는 값을 고르시오.\n",
    "\n",
    "1. 0\n",
    "2. 1\n",
    "3. 2\n",
    "4. 3"
   ]
  },
  {
   "cell_type": "code",
   "execution_count": null,
   "metadata": {},
   "outputs": [],
   "source": [
    "class Person:\n",
    "    population = 0\n",
    "    \n",
    "    def __init__(self, name):\n",
    "        self.name = name\n",
    "        Person.population += 1\n",
    "\n",
    "p1 = Person('hong')\n",
    "p2 = Person('kim')\n",
    "p3 = Person('kang')"
   ]
  },
  {
   "cell_type": "markdown",
   "metadata": {},
   "source": [
    "해설) 4. 인스턴스 객체가 생성되는 과정에서 생성자가 호출되며, 호출 될 때마다 클래스 변수의 population이 증가하므로 3이 출력된다. 인스턴스 변수에 population이 없기 때문에 클래스 이름공간에 있는 population이 출력된다."
   ]
  },
  {
   "cell_type": "markdown",
   "metadata": {},
   "source": [
    "## 23. 보기의 파이썬 코드를 작성한 후 인스턴스를 만드려고 한다. 다음 중 옳은 것을 고르시오.\n",
    "\n",
    "1. p1 = Person(p1, 'hong', 100)\n",
    "2. p2 = Person('kim')\n",
    "3. p3 = Person(age=3, name='kang')\n",
    "4. p4 = Person()"
   ]
  },
  {
   "cell_type": "code",
   "execution_count": null,
   "metadata": {},
   "outputs": [],
   "source": [
    "class Person:\n",
    "    def __init__(self, name, age):\n",
    "        self.name = name"
   ]
  },
  {
   "cell_type": "markdown",
   "metadata": {},
   "source": [
    "해설) Person(이름, 나이)의 형식으로 생성할 수 있다. 다만, 함수와 마찬가지로 순서가 바뀌어도 키워드 인자로 넘겨주면 문제 없이 호출 가능하다."
   ]
  },
  {
   "cell_type": "markdown",
   "metadata": {},
   "source": [
    "## 24. 보기의 파이썬 코드를 실행하였을 때, 틀린 것을 고르시오.\n",
    "\n",
    "1.\n",
    "`list1 == list3`의 결과는 `True`이다. \n",
    "\n",
    "2.\n",
    "```\n",
    "list4[2][0] = 4\n",
    "print(list2[2][0])\n",
    "```\n",
    "의 결과는 4이다.\n",
    "\n",
    "3.\n",
    "```\n",
    "list4[2] = 5\n",
    "print(list2[2])\n",
    "```\n",
    "의 결과는 5이다.\n",
    "\n",
    "4.\n",
    "```\n",
    "list5[2][1] = 3\n",
    "print(list2[2][1])\n",
    "```\n",
    "의 결과는 'a'이다."
   ]
  },
  {
   "cell_type": "code",
   "execution_count": null,
   "metadata": {},
   "outputs": [],
   "source": [
    "import copy\n",
    "\n",
    "list1 = [3, 'a', 'b']\n",
    "list2 = [1, 2, list1]\n",
    "\n",
    "list3 = list1[:]\n",
    "list4 = copy.copy(list2)\n",
    "list5 = copy.deepcopy(list2)"
   ]
  },
  {
   "cell_type": "markdown",
   "metadata": {},
   "source": [
    "해설) list3, list4는 얕은 복사, list5는 깊은 복사이다. 다만, list4에서 얕은 복사시에도 리스트 안의 원소를 바꾸는 것이 아니라 값 자체를 바꿨기에 list2[2]의 결과는 [3, 'a', 'b']이다."
   ]
  },
  {
   "cell_type": "markdown",
   "metadata": {},
   "source": [
    "## 25. 보기의 코드를 실행하면 출력되는 결과는 <class '______'> 이다. 빈칸에 들어갈 말을 고르시오."
   ]
  },
  {
   "cell_type": "code",
   "execution_count": null,
   "metadata": {},
   "outputs": [],
   "source": [
    "print(type({ 'a': 'apple' }))"
   ]
  },
  {
   "cell_type": "markdown",
   "metadata": {},
   "source": [
    "해설) print(type({ 'a': 'apple'})) 의 결과는 <class 'dict'> 이다."
   ]
  }
 ],
 "metadata": {
  "kernelspec": {
   "display_name": "Python 3",
   "language": "python",
   "name": "python3"
  },
  "language_info": {
   "codemirror_mode": {
    "name": "ipython",
    "version": 3
   },
   "file_extension": ".py",
   "mimetype": "text/x-python",
   "name": "python",
   "nbconvert_exporter": "python",
   "pygments_lexer": "ipython3",
   "version": "3.6.7"
  },
  "toc": {
   "base_numbering": 1,
   "nav_menu": {},
   "number_sections": true,
   "sideBar": true,
   "skip_h1_title": false,
   "title_cell": "Table of Contents",
   "title_sidebar": "Contents",
   "toc_cell": false,
   "toc_position": {},
   "toc_section_display": true,
   "toc_window_display": false
  }
 },
 "nbformat": 4,
 "nbformat_minor": 2
}
