{
 "cells": [
  {
   "cell_type": "markdown",
   "metadata": {},
   "source": [
    "# 학습해야 할 내용\n",
    "-  조건문 및 반복문\n",
    "-  함수"
   ]
  },
  {
   "cell_type": "markdown",
   "metadata": {},
   "source": [
    "# 1. List는 for 문을 실행하면 모든 요소를 순차적으로 돌면서 반복문을 수행합니다.\n",
    "임의의 리스트 my_list의 값을 하나씩 출력하는 코드를 아래에 작성하시오."
   ]
  },
  {
   "cell_type": "code",
   "execution_count": 5,
   "metadata": {},
   "outputs": [
    {
     "name": "stdout",
     "output_type": "stream",
     "text": [
      "1 2 3 4 5 7 8 9 10 11 12 13 14 "
     ]
    }
   ],
   "source": [
    "my_list=[1,2,3,4,5,7,8,9,10,11,12,13,14]\n",
    "for one in my_list:\n",
    "    print(one,end=\" \")"
   ]
  },
  {
   "cell_type": "markdown",
   "metadata": {},
   "source": [
    "# 2. 위에 작성한 코드를 인덱스(index) 값과 함께 출력하는 코드로 변경하시오."
   ]
  },
  {
   "cell_type": "code",
   "execution_count": 8,
   "metadata": {},
   "outputs": [
    {
     "name": "stdout",
     "output_type": "stream",
     "text": [
      "(0, 1) (1, 2) (2, 3) (3, 4) (4, 5) (5, 7) (6, 8) (7, 9) (8, 10) (9, 11) (10, 12) (11, 13) (12, 14) "
     ]
    }
   ],
   "source": [
    "for index, one in enumerate(my_list):\n",
    "    print((index,one), end=\" \")"
   ]
  },
  {
   "cell_type": "markdown",
   "metadata": {},
   "source": [
    "# 3. 딕셔너리는 key, value로 구성되어 있습니다.\n",
    "따라서, 딕셔너리 my_dict 각각의 상황에 따라 반복문을 수행할 수 있도록 빈칸을 채우시오.\n",
    "\n",
    "key : for key in __________:\n",
    "\n",
    "\n",
    "value : for value in ___________:\n",
    "\n",
    "\n",
    "key와 value : for key, value in _________:"
   ]
  },
  {
   "cell_type": "code",
   "execution_count": 12,
   "metadata": {},
   "outputs": [
    {
     "name": "stdout",
     "output_type": "stream",
     "text": [
      "1\n",
      "2\n",
      "3\n",
      "4\n",
      "5\n",
      "1번\n",
      "2번\n",
      "3번\n",
      "4번\n",
      "5번\n",
      "1 1번\n",
      "2 2번\n",
      "3 3번\n",
      "4 4번\n",
      "5 5번\n"
     ]
    }
   ],
   "source": [
    "my_dict = {1:\"1번\", 2:\"2번\", 3:\"3번\", 4:\"4번\", 5:\"5번\"}\n",
    "for key in my_dict.keys():\n",
    "    print(key)\n",
    "for value in my_dict.values():\n",
    "    print(value)\n",
    "for key,value in my_dict.items():\n",
    "    print(key,value)"
   ]
  },
  {
   "cell_type": "markdown",
   "metadata": {},
   "source": [
    "# 4. result에 저장된 값은?\n",
    "```python\n",
    "def my_func(a, b):\n",
    "c = a + b\n",
    "print(c) \n",
    "result = my_func(1, 5)\n",
    "```"
   ]
  },
  {
   "cell_type": "code",
   "execution_count": 18,
   "metadata": {},
   "outputs": [],
   "source": [
    "None"
   ]
  },
  {
   "cell_type": "code",
   "execution_count": 19,
   "metadata": {},
   "outputs": [],
   "source": [
    "# 함수를 선언하게 되면 return 값을 설정 했을 때만 함수 실행 시 결과로 그 값이 나온다."
   ]
  }
 ],
 "metadata": {
  "kernelspec": {
   "display_name": "Python 3",
   "language": "python",
   "name": "python3"
  },
  "language_info": {
   "codemirror_mode": {
    "name": "ipython",
    "version": 3
   },
   "file_extension": ".py",
   "mimetype": "text/x-python",
   "name": "python",
   "nbconvert_exporter": "python",
   "pygments_lexer": "ipython3",
   "version": "3.7.1"
  }
 },
 "nbformat": 4,
 "nbformat_minor": 2
}
